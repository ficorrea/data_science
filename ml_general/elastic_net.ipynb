{
  "nbformat": 4,
  "nbformat_minor": 0,
  "metadata": {
    "colab": {
      "provenance": []
    },
    "kernelspec": {
      "name": "python3",
      "display_name": "Python 3"
    },
    "language_info": {
      "name": "python"
    }
  },
  "cells": [
    {
      "cell_type": "markdown",
      "source": [
        "Baseado no artigo: https://machinelearningmastery.com/elastic-net-regression-in-python/\n",
        "\n",
        "**O Elastic Net é um modelo de penalização linear que utiliza as abordagens L1 e L2;**\n",
        "\n",
        "---\n",
        "\n",
        "*One popular penalty is to penalize a model based on the sum of the squared coefficient values. This is called an L2 penalty. An L2 penalty minimizes the size of all coefficients, although it prevents any coefficients from being removed from the model.*\n",
        "\n",
        "- l2_penalty = sum j=0 to p beta_j^2\n",
        "\n",
        "*Another popular penalty is to penalize a model based on the sum of the absolute coefficient values. This is called the L1 penalty. An L1 penalty minimizes the size of all coefficients and allows some coefficients to be minimized to the value zero, which removes the predictor from the model.*\n",
        "\n",
        "- l1_penalty = sum j=0 to p abs(beta_j)\n",
        "\n",
        "---\n",
        "\n",
        "**Hiperparâmetros:**\n",
        "\n",
        "*A hyperparameter “alpha” is provided to assign how much weight is given to each of the L1 and L2 penalties. Alpha is a value between 0 and 1 and is used to weight the contribution of the L1 penalty and one minus the alpha value is used to weight the L2 penalty.*\n",
        "\n",
        "- elastic_net_penalty = (alpha * l1_penalty) + ((1 – alpha) * l2_penalty)\n",
        "\n",
        "*For example, an alpha of 0.5 would provide a 50 percent contribution of each penalty to the loss function. An alpha value of 0 gives all weight to the L2 penalty and a value of 1 gives all weight to the L1 penalty.*\n",
        "\n",
        "*Another hyperparameter is provided called “lambda” that controls the weighting of the sum of both penalties to the loss function. A default value of 1.0 is used to use the fully weighted penalty; a value of 0 excludes the penalty. Very small values of lambada, such as 1e-3 or smaller, are common.*\n",
        "\n",
        "- elastic_net_loss = loss + (lambda * elastic_net_penalty)\n",
        "\n",
        "\n"
      ],
      "metadata": {
        "id": "3X5OieBH_Jlg"
      }
    },
    {
      "cell_type": "markdown",
      "source": [
        "## Elastic Net em regressão"
      ],
      "metadata": {
        "id": "MNu8Q2mfhCXv"
      }
    },
    {
      "cell_type": "code",
      "execution_count": 1,
      "metadata": {
        "colab": {
          "base_uri": "https://localhost:8080/",
          "height": 206
        },
        "id": "Hi58rZKu_Eqz",
        "outputId": "b61f0392-f0e4-44ad-db24-e2df8363cf07"
      },
      "outputs": [
        {
          "output_type": "execute_result",
          "data": {
            "text/plain": [
              "       v_1      v_2      v_3      v_4      v_5      v_6      v_7      v_8  \\\n",
              "0 -0.97127 -0.56128  1.20414  2.25145 -0.25802  0.06246 -1.78623 -0.27690   \n",
              "1  0.89456 -0.94099 -0.19972 -0.08354 -0.96865  0.62801  0.91543  0.20413   \n",
              "2 -0.98777 -0.55565 -0.94141 -1.86277  0.38659 -0.02523 -1.26714  1.07328   \n",
              "3  0.03972 -0.99258  0.63481  0.01554 -0.39203 -0.72647  0.46098  0.79395   \n",
              "4 -1.66022 -0.06734 -0.72252 -1.32035  0.06715  2.39937 -1.30566 -0.65222   \n",
              "\n",
              "       v_9     v_10    target  \n",
              "0 -0.22255  0.20963 -0.062202  \n",
              "1 -0.13587  0.96820  0.112596  \n",
              "2 -0.28350  0.34430  0.167633  \n",
              "3  0.22686  0.25065 -0.844727  \n",
              "4  0.36628  0.31644  2.221942  "
            ],
            "text/html": [
              "\n",
              "  <div id=\"df-cb778803-bad4-4534-9be9-8c36163728d6\">\n",
              "    <div class=\"colab-df-container\">\n",
              "      <div>\n",
              "<style scoped>\n",
              "    .dataframe tbody tr th:only-of-type {\n",
              "        vertical-align: middle;\n",
              "    }\n",
              "\n",
              "    .dataframe tbody tr th {\n",
              "        vertical-align: top;\n",
              "    }\n",
              "\n",
              "    .dataframe thead th {\n",
              "        text-align: right;\n",
              "    }\n",
              "</style>\n",
              "<table border=\"1\" class=\"dataframe\">\n",
              "  <thead>\n",
              "    <tr style=\"text-align: right;\">\n",
              "      <th></th>\n",
              "      <th>v_1</th>\n",
              "      <th>v_2</th>\n",
              "      <th>v_3</th>\n",
              "      <th>v_4</th>\n",
              "      <th>v_5</th>\n",
              "      <th>v_6</th>\n",
              "      <th>v_7</th>\n",
              "      <th>v_8</th>\n",
              "      <th>v_9</th>\n",
              "      <th>v_10</th>\n",
              "      <th>target</th>\n",
              "    </tr>\n",
              "  </thead>\n",
              "  <tbody>\n",
              "    <tr>\n",
              "      <th>0</th>\n",
              "      <td>-0.97127</td>\n",
              "      <td>-0.56128</td>\n",
              "      <td>1.20414</td>\n",
              "      <td>2.25145</td>\n",
              "      <td>-0.25802</td>\n",
              "      <td>0.06246</td>\n",
              "      <td>-1.78623</td>\n",
              "      <td>-0.27690</td>\n",
              "      <td>-0.22255</td>\n",
              "      <td>0.20963</td>\n",
              "      <td>-0.062202</td>\n",
              "    </tr>\n",
              "    <tr>\n",
              "      <th>1</th>\n",
              "      <td>0.89456</td>\n",
              "      <td>-0.94099</td>\n",
              "      <td>-0.19972</td>\n",
              "      <td>-0.08354</td>\n",
              "      <td>-0.96865</td>\n",
              "      <td>0.62801</td>\n",
              "      <td>0.91543</td>\n",
              "      <td>0.20413</td>\n",
              "      <td>-0.13587</td>\n",
              "      <td>0.96820</td>\n",
              "      <td>0.112596</td>\n",
              "    </tr>\n",
              "    <tr>\n",
              "      <th>2</th>\n",
              "      <td>-0.98777</td>\n",
              "      <td>-0.55565</td>\n",
              "      <td>-0.94141</td>\n",
              "      <td>-1.86277</td>\n",
              "      <td>0.38659</td>\n",
              "      <td>-0.02523</td>\n",
              "      <td>-1.26714</td>\n",
              "      <td>1.07328</td>\n",
              "      <td>-0.28350</td>\n",
              "      <td>0.34430</td>\n",
              "      <td>0.167633</td>\n",
              "    </tr>\n",
              "    <tr>\n",
              "      <th>3</th>\n",
              "      <td>0.03972</td>\n",
              "      <td>-0.99258</td>\n",
              "      <td>0.63481</td>\n",
              "      <td>0.01554</td>\n",
              "      <td>-0.39203</td>\n",
              "      <td>-0.72647</td>\n",
              "      <td>0.46098</td>\n",
              "      <td>0.79395</td>\n",
              "      <td>0.22686</td>\n",
              "      <td>0.25065</td>\n",
              "      <td>-0.844727</td>\n",
              "    </tr>\n",
              "    <tr>\n",
              "      <th>4</th>\n",
              "      <td>-1.66022</td>\n",
              "      <td>-0.06734</td>\n",
              "      <td>-0.72252</td>\n",
              "      <td>-1.32035</td>\n",
              "      <td>0.06715</td>\n",
              "      <td>2.39937</td>\n",
              "      <td>-1.30566</td>\n",
              "      <td>-0.65222</td>\n",
              "      <td>0.36628</td>\n",
              "      <td>0.31644</td>\n",
              "      <td>2.221942</td>\n",
              "    </tr>\n",
              "  </tbody>\n",
              "</table>\n",
              "</div>\n",
              "      <button class=\"colab-df-convert\" onclick=\"convertToInteractive('df-cb778803-bad4-4534-9be9-8c36163728d6')\"\n",
              "              title=\"Convert this dataframe to an interactive table.\"\n",
              "              style=\"display:none;\">\n",
              "        \n",
              "  <svg xmlns=\"http://www.w3.org/2000/svg\" height=\"24px\"viewBox=\"0 0 24 24\"\n",
              "       width=\"24px\">\n",
              "    <path d=\"M0 0h24v24H0V0z\" fill=\"none\"/>\n",
              "    <path d=\"M18.56 5.44l.94 2.06.94-2.06 2.06-.94-2.06-.94-.94-2.06-.94 2.06-2.06.94zm-11 1L8.5 8.5l.94-2.06 2.06-.94-2.06-.94L8.5 2.5l-.94 2.06-2.06.94zm10 10l.94 2.06.94-2.06 2.06-.94-2.06-.94-.94-2.06-.94 2.06-2.06.94z\"/><path d=\"M17.41 7.96l-1.37-1.37c-.4-.4-.92-.59-1.43-.59-.52 0-1.04.2-1.43.59L10.3 9.45l-7.72 7.72c-.78.78-.78 2.05 0 2.83L4 21.41c.39.39.9.59 1.41.59.51 0 1.02-.2 1.41-.59l7.78-7.78 2.81-2.81c.8-.78.8-2.07 0-2.86zM5.41 20L4 18.59l7.72-7.72 1.47 1.35L5.41 20z\"/>\n",
              "  </svg>\n",
              "      </button>\n",
              "      \n",
              "  <style>\n",
              "    .colab-df-container {\n",
              "      display:flex;\n",
              "      flex-wrap:wrap;\n",
              "      gap: 12px;\n",
              "    }\n",
              "\n",
              "    .colab-df-convert {\n",
              "      background-color: #E8F0FE;\n",
              "      border: none;\n",
              "      border-radius: 50%;\n",
              "      cursor: pointer;\n",
              "      display: none;\n",
              "      fill: #1967D2;\n",
              "      height: 32px;\n",
              "      padding: 0 0 0 0;\n",
              "      width: 32px;\n",
              "    }\n",
              "\n",
              "    .colab-df-convert:hover {\n",
              "      background-color: #E2EBFA;\n",
              "      box-shadow: 0px 1px 2px rgba(60, 64, 67, 0.3), 0px 1px 3px 1px rgba(60, 64, 67, 0.15);\n",
              "      fill: #174EA6;\n",
              "    }\n",
              "\n",
              "    [theme=dark] .colab-df-convert {\n",
              "      background-color: #3B4455;\n",
              "      fill: #D2E3FC;\n",
              "    }\n",
              "\n",
              "    [theme=dark] .colab-df-convert:hover {\n",
              "      background-color: #434B5C;\n",
              "      box-shadow: 0px 1px 3px 1px rgba(0, 0, 0, 0.15);\n",
              "      filter: drop-shadow(0px 1px 2px rgba(0, 0, 0, 0.3));\n",
              "      fill: #FFFFFF;\n",
              "    }\n",
              "  </style>\n",
              "\n",
              "      <script>\n",
              "        const buttonEl =\n",
              "          document.querySelector('#df-cb778803-bad4-4534-9be9-8c36163728d6 button.colab-df-convert');\n",
              "        buttonEl.style.display =\n",
              "          google.colab.kernel.accessAllowed ? 'block' : 'none';\n",
              "\n",
              "        async function convertToInteractive(key) {\n",
              "          const element = document.querySelector('#df-cb778803-bad4-4534-9be9-8c36163728d6');\n",
              "          const dataTable =\n",
              "            await google.colab.kernel.invokeFunction('convertToInteractive',\n",
              "                                                     [key], {});\n",
              "          if (!dataTable) return;\n",
              "\n",
              "          const docLinkHtml = 'Like what you see? Visit the ' +\n",
              "            '<a target=\"_blank\" href=https://colab.research.google.com/notebooks/data_table.ipynb>data table notebook</a>'\n",
              "            + ' to learn more about interactive tables.';\n",
              "          element.innerHTML = '';\n",
              "          dataTable['output_type'] = 'display_data';\n",
              "          await google.colab.output.renderOutput(dataTable, element);\n",
              "          const docLink = document.createElement('div');\n",
              "          docLink.innerHTML = docLinkHtml;\n",
              "          element.appendChild(docLink);\n",
              "        }\n",
              "      </script>\n",
              "    </div>\n",
              "  </div>\n",
              "  "
            ]
          },
          "metadata": {},
          "execution_count": 1
        }
      ],
      "source": [
        "import warnings\n",
        "warnings.filterwarnings('ignore')\n",
        "\n",
        "import pandas as pd\n",
        "import numpy as np\n",
        "df = pd.read_csv('/content/drive/MyDrive/myColab/datasets/regressao.csv')\n",
        "df.head()"
      ]
    },
    {
      "cell_type": "code",
      "source": [
        "# Training data\n",
        "x, y = df.iloc[:, 0:-1], df.iloc[:, -1]"
      ],
      "metadata": {
        "id": "ZqUg_aqrFO5R"
      },
      "execution_count": 2,
      "outputs": []
    },
    {
      "cell_type": "markdown",
      "source": [
        "*Using scikit-learn confusingly, the alpha hyperparameter can be set via the “l1_ratio” argument that controls the contribution of the L1 and L2 penalties and the lambda hyperparameter can be set via the “alpha” argument that controls the contribution of the sum of both penalties to the loss function.*"
      ],
      "metadata": {
        "id": "0-slzcwaENcw"
      }
    },
    {
      "cell_type": "code",
      "source": [
        "# Using elastic net pure\n",
        "from sklearn.model_selection import cross_val_score\n",
        "from sklearn.model_selection import RepeatedKFold\n",
        "from sklearn.linear_model import ElasticNet\n",
        "\n",
        "# defaults to alpha (lambda) and l1_ratio (alpha)\n",
        "model = ElasticNet(alpha=1.0, l1_ratio=0.5)\n",
        "\n",
        "cv = RepeatedKFold(n_splits=10, n_repeats=3, random_state=42)\n",
        "scores = cross_val_score(model, x, y, scoring='neg_mean_absolute_error', cv=cv, n_jobs=-1)\n",
        "scores = np.absolute(scores)\n",
        "print(f'MAE mean: {np.mean(scores)} - STD mean {np.std(scores)}')"
      ],
      "metadata": {
        "colab": {
          "base_uri": "https://localhost:8080/"
        },
        "id": "N_tgm2EzEB_1",
        "outputId": "d862673c-a9d2-4936-ab41-1967782287a2"
      },
      "execution_count": 3,
      "outputs": [
        {
          "output_type": "stream",
          "name": "stdout",
          "text": [
            "MAE mean: 0.6295942848788132 - STD mean 0.02511000542566693\n"
          ]
        }
      ]
    },
    {
      "cell_type": "code",
      "source": [
        "# Using grid search to determine alpha (lambda) and l1_ratio (alpha)\n",
        "from sklearn.model_selection import RepeatedKFold\n",
        "from sklearn.model_selection import GridSearchCV\n",
        "from sklearn.linear_model import ElasticNet\n",
        "\n",
        "grid = dict()\n",
        "grid['alpha'] = [1e-5, 1e-4, 1e-3, 1e-2, 1e-1, 0.0, 1.0, 10.0, 100.0]\n",
        "grid['l1_ratio'] = np.arange(0, 1, 0.01)\n",
        "\n",
        "model = ElasticNet()\n",
        "cv = RepeatedKFold(n_splits=10, n_repeats=3, random_state=42)\n",
        "search = GridSearchCV(model, grid, scoring='neg_mean_absolute_error', cv=cv, n_jobs=-1)\n",
        "results = search.fit(x, y)\n",
        "print(f'Best MAE: {results.best_score_} - Best params {results.best_params_}')"
      ],
      "metadata": {
        "colab": {
          "base_uri": "https://localhost:8080/"
        },
        "id": "8aAI-tAHGl7R",
        "outputId": "e57f17de-337d-4770-e5b4-e3755fa15147"
      },
      "execution_count": 4,
      "outputs": [
        {
          "output_type": "stream",
          "name": "stdout",
          "text": [
            "Best MAE: -0.00041167052274532353 - Best params {'alpha': 1e-05, 'l1_ratio': 0.99}\n"
          ]
        }
      ]
    },
    {
      "cell_type": "code",
      "source": [
        "# Using grid from elastic net\n",
        "from sklearn.model_selection import RepeatedKFold\n",
        "from sklearn.linear_model import ElasticNetCV\n",
        "\n",
        "alphas = [1e-5, 1e-4, 1e-3, 1e-2, 1e-1, 0.0, 1.0, 10.0, 100.0]\n",
        "ratios = np.arange(0, 1, 0.01)\n",
        "\n",
        "cv = RepeatedKFold(n_splits=10, n_repeats=3, random_state=42)\n",
        "model = ElasticNetCV(l1_ratio=ratios, alphas=alphas, cv=cv, n_jobs=-1)\n",
        "model.fit(x, y)\n",
        "print(f'Mean MAE: {np.sqrt(np.mean(model.mse_path_))} - Best Alpha {model.alpha_} - Best L1_ratio {model.l1_ratio_}')"
      ],
      "metadata": {
        "colab": {
          "base_uri": "https://localhost:8080/"
        },
        "id": "NYpiDplhMktC",
        "outputId": "46093309-6539-4171-b370-2200bf191d80"
      },
      "execution_count": 5,
      "outputs": [
        {
          "output_type": "stream",
          "name": "stdout",
          "text": [
            "Mean MAE: 0.5414544289298434 - Best Alpha 1e-05 - Best L1_ratio 0.99\n"
          ]
        }
      ]
    },
    {
      "cell_type": "markdown",
      "source": [
        "## Elastic Net em classificação\n",
        "Para uso em problemas de classificação utilizamos o algoritmo de Regressão Logística com uma penalidade baseada em Elastic Net."
      ],
      "metadata": {
        "id": "oKfStW2YhLXI"
      }
    },
    {
      "cell_type": "code",
      "source": [
        "import warnings\n",
        "warnings.filterwarnings('ignore')\n",
        "\n",
        "import pandas as pd\n",
        "import numpy as np\n",
        "df = pd.read_csv('/content/drive/MyDrive/myColab/datasets/iris.csv')\n",
        "df.head()"
      ],
      "metadata": {
        "colab": {
          "base_uri": "https://localhost:8080/",
          "height": 206
        },
        "id": "JrfExSEChKd-",
        "outputId": "d2a5bad0-ea8b-43e1-ff89-4980e177ce9f"
      },
      "execution_count": 6,
      "outputs": [
        {
          "output_type": "execute_result",
          "data": {
            "text/plain": [
              "   sepal.length  sepal.width  petal.length  petal.width variety\n",
              "0           5.1          3.5           1.4          0.2  Setosa\n",
              "1           4.9          3.0           1.4          0.2  Setosa\n",
              "2           4.7          3.2           1.3          0.2  Setosa\n",
              "3           4.6          3.1           1.5          0.2  Setosa\n",
              "4           5.0          3.6           1.4          0.2  Setosa"
            ],
            "text/html": [
              "\n",
              "  <div id=\"df-b1b54e03-059b-4ddd-96b0-958fd1e8a5f9\">\n",
              "    <div class=\"colab-df-container\">\n",
              "      <div>\n",
              "<style scoped>\n",
              "    .dataframe tbody tr th:only-of-type {\n",
              "        vertical-align: middle;\n",
              "    }\n",
              "\n",
              "    .dataframe tbody tr th {\n",
              "        vertical-align: top;\n",
              "    }\n",
              "\n",
              "    .dataframe thead th {\n",
              "        text-align: right;\n",
              "    }\n",
              "</style>\n",
              "<table border=\"1\" class=\"dataframe\">\n",
              "  <thead>\n",
              "    <tr style=\"text-align: right;\">\n",
              "      <th></th>\n",
              "      <th>sepal.length</th>\n",
              "      <th>sepal.width</th>\n",
              "      <th>petal.length</th>\n",
              "      <th>petal.width</th>\n",
              "      <th>variety</th>\n",
              "    </tr>\n",
              "  </thead>\n",
              "  <tbody>\n",
              "    <tr>\n",
              "      <th>0</th>\n",
              "      <td>5.1</td>\n",
              "      <td>3.5</td>\n",
              "      <td>1.4</td>\n",
              "      <td>0.2</td>\n",
              "      <td>Setosa</td>\n",
              "    </tr>\n",
              "    <tr>\n",
              "      <th>1</th>\n",
              "      <td>4.9</td>\n",
              "      <td>3.0</td>\n",
              "      <td>1.4</td>\n",
              "      <td>0.2</td>\n",
              "      <td>Setosa</td>\n",
              "    </tr>\n",
              "    <tr>\n",
              "      <th>2</th>\n",
              "      <td>4.7</td>\n",
              "      <td>3.2</td>\n",
              "      <td>1.3</td>\n",
              "      <td>0.2</td>\n",
              "      <td>Setosa</td>\n",
              "    </tr>\n",
              "    <tr>\n",
              "      <th>3</th>\n",
              "      <td>4.6</td>\n",
              "      <td>3.1</td>\n",
              "      <td>1.5</td>\n",
              "      <td>0.2</td>\n",
              "      <td>Setosa</td>\n",
              "    </tr>\n",
              "    <tr>\n",
              "      <th>4</th>\n",
              "      <td>5.0</td>\n",
              "      <td>3.6</td>\n",
              "      <td>1.4</td>\n",
              "      <td>0.2</td>\n",
              "      <td>Setosa</td>\n",
              "    </tr>\n",
              "  </tbody>\n",
              "</table>\n",
              "</div>\n",
              "      <button class=\"colab-df-convert\" onclick=\"convertToInteractive('df-b1b54e03-059b-4ddd-96b0-958fd1e8a5f9')\"\n",
              "              title=\"Convert this dataframe to an interactive table.\"\n",
              "              style=\"display:none;\">\n",
              "        \n",
              "  <svg xmlns=\"http://www.w3.org/2000/svg\" height=\"24px\"viewBox=\"0 0 24 24\"\n",
              "       width=\"24px\">\n",
              "    <path d=\"M0 0h24v24H0V0z\" fill=\"none\"/>\n",
              "    <path d=\"M18.56 5.44l.94 2.06.94-2.06 2.06-.94-2.06-.94-.94-2.06-.94 2.06-2.06.94zm-11 1L8.5 8.5l.94-2.06 2.06-.94-2.06-.94L8.5 2.5l-.94 2.06-2.06.94zm10 10l.94 2.06.94-2.06 2.06-.94-2.06-.94-.94-2.06-.94 2.06-2.06.94z\"/><path d=\"M17.41 7.96l-1.37-1.37c-.4-.4-.92-.59-1.43-.59-.52 0-1.04.2-1.43.59L10.3 9.45l-7.72 7.72c-.78.78-.78 2.05 0 2.83L4 21.41c.39.39.9.59 1.41.59.51 0 1.02-.2 1.41-.59l7.78-7.78 2.81-2.81c.8-.78.8-2.07 0-2.86zM5.41 20L4 18.59l7.72-7.72 1.47 1.35L5.41 20z\"/>\n",
              "  </svg>\n",
              "      </button>\n",
              "      \n",
              "  <style>\n",
              "    .colab-df-container {\n",
              "      display:flex;\n",
              "      flex-wrap:wrap;\n",
              "      gap: 12px;\n",
              "    }\n",
              "\n",
              "    .colab-df-convert {\n",
              "      background-color: #E8F0FE;\n",
              "      border: none;\n",
              "      border-radius: 50%;\n",
              "      cursor: pointer;\n",
              "      display: none;\n",
              "      fill: #1967D2;\n",
              "      height: 32px;\n",
              "      padding: 0 0 0 0;\n",
              "      width: 32px;\n",
              "    }\n",
              "\n",
              "    .colab-df-convert:hover {\n",
              "      background-color: #E2EBFA;\n",
              "      box-shadow: 0px 1px 2px rgba(60, 64, 67, 0.3), 0px 1px 3px 1px rgba(60, 64, 67, 0.15);\n",
              "      fill: #174EA6;\n",
              "    }\n",
              "\n",
              "    [theme=dark] .colab-df-convert {\n",
              "      background-color: #3B4455;\n",
              "      fill: #D2E3FC;\n",
              "    }\n",
              "\n",
              "    [theme=dark] .colab-df-convert:hover {\n",
              "      background-color: #434B5C;\n",
              "      box-shadow: 0px 1px 3px 1px rgba(0, 0, 0, 0.15);\n",
              "      filter: drop-shadow(0px 1px 2px rgba(0, 0, 0, 0.3));\n",
              "      fill: #FFFFFF;\n",
              "    }\n",
              "  </style>\n",
              "\n",
              "      <script>\n",
              "        const buttonEl =\n",
              "          document.querySelector('#df-b1b54e03-059b-4ddd-96b0-958fd1e8a5f9 button.colab-df-convert');\n",
              "        buttonEl.style.display =\n",
              "          google.colab.kernel.accessAllowed ? 'block' : 'none';\n",
              "\n",
              "        async function convertToInteractive(key) {\n",
              "          const element = document.querySelector('#df-b1b54e03-059b-4ddd-96b0-958fd1e8a5f9');\n",
              "          const dataTable =\n",
              "            await google.colab.kernel.invokeFunction('convertToInteractive',\n",
              "                                                     [key], {});\n",
              "          if (!dataTable) return;\n",
              "\n",
              "          const docLinkHtml = 'Like what you see? Visit the ' +\n",
              "            '<a target=\"_blank\" href=https://colab.research.google.com/notebooks/data_table.ipynb>data table notebook</a>'\n",
              "            + ' to learn more about interactive tables.';\n",
              "          element.innerHTML = '';\n",
              "          dataTable['output_type'] = 'display_data';\n",
              "          await google.colab.output.renderOutput(dataTable, element);\n",
              "          const docLink = document.createElement('div');\n",
              "          docLink.innerHTML = docLinkHtml;\n",
              "          element.appendChild(docLink);\n",
              "        }\n",
              "      </script>\n",
              "    </div>\n",
              "  </div>\n",
              "  "
            ]
          },
          "metadata": {},
          "execution_count": 6
        }
      ]
    },
    {
      "cell_type": "code",
      "source": [
        "cls = {\n",
        "    'Setosa': 0,\n",
        "    'Versicolor': 1,\n",
        "    'Virginica': 2}\n",
        "\n",
        "df['variety'] = df.apply(lambda x: cls[x.variety], axis=1)\n",
        "df.variety.unique()"
      ],
      "metadata": {
        "colab": {
          "base_uri": "https://localhost:8080/"
        },
        "id": "BmQDS61ojs1P",
        "outputId": "bdb207e0-7087-48a8-9e33-e98ff517206c"
      },
      "execution_count": 7,
      "outputs": [
        {
          "output_type": "execute_result",
          "data": {
            "text/plain": [
              "array([0, 1, 2])"
            ]
          },
          "metadata": {},
          "execution_count": 7
        }
      ]
    },
    {
      "cell_type": "code",
      "source": [
        "# Training data\n",
        "x, y = df.iloc[:, 0:-1], df.iloc[:, -1]"
      ],
      "metadata": {
        "id": "kgTODZqfkPFr"
      },
      "execution_count": 8,
      "outputs": []
    },
    {
      "cell_type": "code",
      "source": [
        "# Using elastic net pure\n",
        "from sklearn.model_selection import cross_val_score\n",
        "from sklearn.model_selection import RepeatedKFold\n",
        "from sklearn.linear_model import LogisticRegression\n",
        "\n",
        "# defaults to alpha (lambda) and l1_ratio (alpha)\n",
        "model = LogisticRegression(penalty='elasticnet', solver='saga', l1_ratio=0.5)\n",
        "\n",
        "cv = RepeatedKFold(n_splits=10, n_repeats=3, random_state=42)\n",
        "scores = cross_val_score(model, x, y, scoring='accuracy', cv=cv, n_jobs=-1)\n",
        "scores = np.absolute(scores)\n",
        "print(f'Accuracy mean: {np.mean(scores)} - STD mean {np.std(scores)}')"
      ],
      "metadata": {
        "colab": {
          "base_uri": "https://localhost:8080/"
        },
        "id": "cyE0rDvVkcwI",
        "outputId": "f118c172-8a1e-4d9c-a525-3fee8b0c31d6"
      },
      "execution_count": 9,
      "outputs": [
        {
          "output_type": "stream",
          "name": "stdout",
          "text": [
            "MAE mean: 0.9755555555555556 - STD mean 0.043829073162924476\n"
          ]
        }
      ]
    },
    {
      "cell_type": "code",
      "source": [
        "# Using grid search to determine alpha (lambda) and l1_ratio (alpha)\n",
        "from sklearn.model_selection import RepeatedKFold\n",
        "from sklearn.model_selection import GridSearchCV\n",
        "from sklearn.linear_model import LogisticRegression\n",
        "\n",
        "grid = dict()\n",
        "grid['penalty'] = ['elasticnet']\n",
        "# Solvers que funcionam com multiclass\n",
        "grid['solver'] = ['saga', 'sag', 'newton-cg']\n",
        "grid['l1_ratio'] = np.arange(0, 1, 0.01)\n",
        "\n",
        "model = LogisticRegression()\n",
        "cv = RepeatedKFold(n_splits=10, n_repeats=3, random_state=42)\n",
        "search = GridSearchCV(model, grid, scoring='accuracy', cv=cv, n_jobs=-1)\n",
        "results = search.fit(x, y)\n",
        "print(f'Best Accuracy: {results.best_score_} - Best params {results.best_params_}')"
      ],
      "metadata": {
        "colab": {
          "base_uri": "https://localhost:8080/"
        },
        "id": "nGCSgCfcm4Yu",
        "outputId": "dc33747f-0449-419d-d036-65de2a8e51b0"
      },
      "execution_count": 10,
      "outputs": [
        {
          "output_type": "stream",
          "name": "stdout",
          "text": [
            "Best MAE: 0.9755555555555556 - Best params {'l1_ratio': 0.47000000000000003, 'penalty': 'elasticnet', 'solver': 'saga'}\n"
          ]
        }
      ]
    },
    {
      "cell_type": "code",
      "source": [
        "# Using grid from logistic regression\n",
        "from sklearn.model_selection import RepeatedKFold\n",
        "from sklearn.linear_model import LogisticRegressionCV\n",
        "\n",
        "penalty = 'elasticnet'\n",
        "solvers = 'saga'\n",
        "scoring = 'accuracy'\n",
        "multi_class = 'multinomial'\n",
        "ratios = np.arange(0, 1, 0.01)\n",
        "\n",
        "cv = RepeatedKFold(n_splits=10, n_repeats=3, random_state=42)\n",
        "model = LogisticRegressionCV(\n",
        "    penalty=penalty,\n",
        "    solver=solvers,\n",
        "    l1_ratios=ratios,\n",
        "    scoring=scoring,\n",
        "    multi_class = multi_class,\n",
        "    cv=cv,\n",
        "    n_jobs=-1)\n",
        "model.fit(x, y)\n",
        "print(f'Best Accuracy: {np.mean(model.C_)} - Best L1_ratio {model.l1_ratio_}')"
      ],
      "metadata": {
        "colab": {
          "base_uri": "https://localhost:8080/"
        },
        "id": "1IHB2kC8nzMp",
        "outputId": "6bf3fae0-303b-4344-b85d-19d92c35d714"
      },
      "execution_count": 16,
      "outputs": [
        {
          "output_type": "stream",
          "name": "stdout",
          "text": [
            "Best Accuracy: 0.3593813663804626 - Best L1_ratio [0.94 0.94 0.94]\n"
          ]
        }
      ]
    }
  ]
}