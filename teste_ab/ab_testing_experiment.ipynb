{
  "nbformat": 4,
  "nbformat_minor": 0,
  "metadata": {
    "colab": {
      "provenance": [],
      "mount_file_id": "1Pq5oMyvnX3Zm86JA4uPyNd9ji7MLmhH2",
      "authorship_tag": "ABX9TyMa8547rDuGrzye1BVZhFDE",
      "include_colab_link": true
    },
    "kernelspec": {
      "name": "python3",
      "display_name": "Python 3"
    },
    "language_info": {
      "name": "python"
    }
  },
  "cells": [
    {
      "cell_type": "markdown",
      "metadata": {
        "id": "view-in-github",
        "colab_type": "text"
      },
      "source": [
        "<a href=\"https://colab.research.google.com/github/ficorrea/data_science/blob/main/teste_ab/ab_testing_experiment.ipynb\" target=\"_parent\"><img src=\"https://colab.research.google.com/assets/colab-badge.svg\" alt=\"Open In Colab\"/></a>"
      ]
    },
    {
      "cell_type": "markdown",
      "source": [
        "### **EDA**"
      ],
      "metadata": {
        "id": "iiEc4WroQg_k"
      }
    },
    {
      "cell_type": "code",
      "execution_count": 1,
      "metadata": {
        "id": "oR8i59q_PkMe"
      },
      "outputs": [],
      "source": [
        "import pandas as pd\n",
        "import matplotlib.pyplot as plt\n",
        "import seaborn as sns"
      ]
    },
    {
      "cell_type": "code",
      "source": [
        "sns.set_style('dark')"
      ],
      "metadata": {
        "id": "3IBwU0_wPwl3"
      },
      "execution_count": 2,
      "outputs": []
    },
    {
      "cell_type": "code",
      "source": [
        "df = pd.read_csv('/content/drive/MyDrive/Comunidade DS/AB Test/ab_testing.csv', parse_dates=['date'])\n",
        "df.head()"
      ],
      "metadata": {
        "colab": {
          "base_uri": "https://localhost:8080/",
          "height": 206
        },
        "id": "7EhDmmFfP83F",
        "outputId": "8e9676d7-c67b-429f-be6d-94530d10f566"
      },
      "execution_count": 3,
      "outputs": [
        {
          "output_type": "execute_result",
          "data": {
            "text/plain": [
              "        uid country gender  spent  purchases       date  group device\n",
              "0  11115722     MEX      F   1595          5 2016-03-08  GRP B      I\n",
              "1  11122053     USA      M    498          2 2017-07-14  GRP B      I\n",
              "2  11128688     USA      F   2394          6 2017-09-17  GRP A      I\n",
              "3  11130578     USA      F   1197          3 2017-11-30  GRP A      I\n",
              "4  11130759     ESP      M   1297          3 2018-01-10  GRP B      A"
            ],
            "text/html": [
              "\n",
              "  <div id=\"df-837fbc0d-ad78-4477-a9a7-3d6534c0bf63\">\n",
              "    <div class=\"colab-df-container\">\n",
              "      <div>\n",
              "<style scoped>\n",
              "    .dataframe tbody tr th:only-of-type {\n",
              "        vertical-align: middle;\n",
              "    }\n",
              "\n",
              "    .dataframe tbody tr th {\n",
              "        vertical-align: top;\n",
              "    }\n",
              "\n",
              "    .dataframe thead th {\n",
              "        text-align: right;\n",
              "    }\n",
              "</style>\n",
              "<table border=\"1\" class=\"dataframe\">\n",
              "  <thead>\n",
              "    <tr style=\"text-align: right;\">\n",
              "      <th></th>\n",
              "      <th>uid</th>\n",
              "      <th>country</th>\n",
              "      <th>gender</th>\n",
              "      <th>spent</th>\n",
              "      <th>purchases</th>\n",
              "      <th>date</th>\n",
              "      <th>group</th>\n",
              "      <th>device</th>\n",
              "    </tr>\n",
              "  </thead>\n",
              "  <tbody>\n",
              "    <tr>\n",
              "      <th>0</th>\n",
              "      <td>11115722</td>\n",
              "      <td>MEX</td>\n",
              "      <td>F</td>\n",
              "      <td>1595</td>\n",
              "      <td>5</td>\n",
              "      <td>2016-03-08</td>\n",
              "      <td>GRP B</td>\n",
              "      <td>I</td>\n",
              "    </tr>\n",
              "    <tr>\n",
              "      <th>1</th>\n",
              "      <td>11122053</td>\n",
              "      <td>USA</td>\n",
              "      <td>M</td>\n",
              "      <td>498</td>\n",
              "      <td>2</td>\n",
              "      <td>2017-07-14</td>\n",
              "      <td>GRP B</td>\n",
              "      <td>I</td>\n",
              "    </tr>\n",
              "    <tr>\n",
              "      <th>2</th>\n",
              "      <td>11128688</td>\n",
              "      <td>USA</td>\n",
              "      <td>F</td>\n",
              "      <td>2394</td>\n",
              "      <td>6</td>\n",
              "      <td>2017-09-17</td>\n",
              "      <td>GRP A</td>\n",
              "      <td>I</td>\n",
              "    </tr>\n",
              "    <tr>\n",
              "      <th>3</th>\n",
              "      <td>11130578</td>\n",
              "      <td>USA</td>\n",
              "      <td>F</td>\n",
              "      <td>1197</td>\n",
              "      <td>3</td>\n",
              "      <td>2017-11-30</td>\n",
              "      <td>GRP A</td>\n",
              "      <td>I</td>\n",
              "    </tr>\n",
              "    <tr>\n",
              "      <th>4</th>\n",
              "      <td>11130759</td>\n",
              "      <td>ESP</td>\n",
              "      <td>M</td>\n",
              "      <td>1297</td>\n",
              "      <td>3</td>\n",
              "      <td>2018-01-10</td>\n",
              "      <td>GRP B</td>\n",
              "      <td>A</td>\n",
              "    </tr>\n",
              "  </tbody>\n",
              "</table>\n",
              "</div>\n",
              "      <button class=\"colab-df-convert\" onclick=\"convertToInteractive('df-837fbc0d-ad78-4477-a9a7-3d6534c0bf63')\"\n",
              "              title=\"Convert this dataframe to an interactive table.\"\n",
              "              style=\"display:none;\">\n",
              "        \n",
              "  <svg xmlns=\"http://www.w3.org/2000/svg\" height=\"24px\"viewBox=\"0 0 24 24\"\n",
              "       width=\"24px\">\n",
              "    <path d=\"M0 0h24v24H0V0z\" fill=\"none\"/>\n",
              "    <path d=\"M18.56 5.44l.94 2.06.94-2.06 2.06-.94-2.06-.94-.94-2.06-.94 2.06-2.06.94zm-11 1L8.5 8.5l.94-2.06 2.06-.94-2.06-.94L8.5 2.5l-.94 2.06-2.06.94zm10 10l.94 2.06.94-2.06 2.06-.94-2.06-.94-.94-2.06-.94 2.06-2.06.94z\"/><path d=\"M17.41 7.96l-1.37-1.37c-.4-.4-.92-.59-1.43-.59-.52 0-1.04.2-1.43.59L10.3 9.45l-7.72 7.72c-.78.78-.78 2.05 0 2.83L4 21.41c.39.39.9.59 1.41.59.51 0 1.02-.2 1.41-.59l7.78-7.78 2.81-2.81c.8-.78.8-2.07 0-2.86zM5.41 20L4 18.59l7.72-7.72 1.47 1.35L5.41 20z\"/>\n",
              "  </svg>\n",
              "      </button>\n",
              "      \n",
              "  <style>\n",
              "    .colab-df-container {\n",
              "      display:flex;\n",
              "      flex-wrap:wrap;\n",
              "      gap: 12px;\n",
              "    }\n",
              "\n",
              "    .colab-df-convert {\n",
              "      background-color: #E8F0FE;\n",
              "      border: none;\n",
              "      border-radius: 50%;\n",
              "      cursor: pointer;\n",
              "      display: none;\n",
              "      fill: #1967D2;\n",
              "      height: 32px;\n",
              "      padding: 0 0 0 0;\n",
              "      width: 32px;\n",
              "    }\n",
              "\n",
              "    .colab-df-convert:hover {\n",
              "      background-color: #E2EBFA;\n",
              "      box-shadow: 0px 1px 2px rgba(60, 64, 67, 0.3), 0px 1px 3px 1px rgba(60, 64, 67, 0.15);\n",
              "      fill: #174EA6;\n",
              "    }\n",
              "\n",
              "    [theme=dark] .colab-df-convert {\n",
              "      background-color: #3B4455;\n",
              "      fill: #D2E3FC;\n",
              "    }\n",
              "\n",
              "    [theme=dark] .colab-df-convert:hover {\n",
              "      background-color: #434B5C;\n",
              "      box-shadow: 0px 1px 3px 1px rgba(0, 0, 0, 0.15);\n",
              "      filter: drop-shadow(0px 1px 2px rgba(0, 0, 0, 0.3));\n",
              "      fill: #FFFFFF;\n",
              "    }\n",
              "  </style>\n",
              "\n",
              "      <script>\n",
              "        const buttonEl =\n",
              "          document.querySelector('#df-837fbc0d-ad78-4477-a9a7-3d6534c0bf63 button.colab-df-convert');\n",
              "        buttonEl.style.display =\n",
              "          google.colab.kernel.accessAllowed ? 'block' : 'none';\n",
              "\n",
              "        async function convertToInteractive(key) {\n",
              "          const element = document.querySelector('#df-837fbc0d-ad78-4477-a9a7-3d6534c0bf63');\n",
              "          const dataTable =\n",
              "            await google.colab.kernel.invokeFunction('convertToInteractive',\n",
              "                                                     [key], {});\n",
              "          if (!dataTable) return;\n",
              "\n",
              "          const docLinkHtml = 'Like what you see? Visit the ' +\n",
              "            '<a target=\"_blank\" href=https://colab.research.google.com/notebooks/data_table.ipynb>data table notebook</a>'\n",
              "            + ' to learn more about interactive tables.';\n",
              "          element.innerHTML = '';\n",
              "          dataTable['output_type'] = 'display_data';\n",
              "          await google.colab.output.renderOutput(dataTable, element);\n",
              "          const docLink = document.createElement('div');\n",
              "          docLink.innerHTML = docLinkHtml;\n",
              "          element.appendChild(docLink);\n",
              "        }\n",
              "      </script>\n",
              "    </div>\n",
              "  </div>\n",
              "  "
            ]
          },
          "metadata": {},
          "execution_count": 3
        }
      ]
    },
    {
      "cell_type": "code",
      "source": [
        "# Add year and month fields\n",
        "df['year'] = df.apply(lambda x: x.date.year, axis=1)\n",
        "df['month'] = df.apply(lambda x: x.date.month, axis=1)"
      ],
      "metadata": {
        "id": "a8g2aToOWOz5"
      },
      "execution_count": 4,
      "outputs": []
    },
    {
      "cell_type": "code",
      "source": [
        "df.info()"
      ],
      "metadata": {
        "colab": {
          "base_uri": "https://localhost:8080/"
        },
        "id": "OL_J46UFS31R",
        "outputId": "e1aa9c76-16a5-468e-b812-facc90be07df"
      },
      "execution_count": 5,
      "outputs": [
        {
          "output_type": "stream",
          "name": "stdout",
          "text": [
            "<class 'pandas.core.frame.DataFrame'>\n",
            "RangeIndex: 45883 entries, 0 to 45882\n",
            "Data columns (total 10 columns):\n",
            " #   Column     Non-Null Count  Dtype         \n",
            "---  ------     --------------  -----         \n",
            " 0   uid        45883 non-null  int64         \n",
            " 1   country    45883 non-null  object        \n",
            " 2   gender     45883 non-null  object        \n",
            " 3   spent      45883 non-null  int64         \n",
            " 4   purchases  45883 non-null  int64         \n",
            " 5   date       45883 non-null  datetime64[ns]\n",
            " 6   group      45883 non-null  object        \n",
            " 7   device     45883 non-null  object        \n",
            " 8   year       45883 non-null  int64         \n",
            " 9   month      45883 non-null  int64         \n",
            "dtypes: datetime64[ns](1), int64(5), object(4)\n",
            "memory usage: 3.5+ MB\n"
          ]
        }
      ]
    },
    {
      "cell_type": "markdown",
      "source": [
        "#### Dicionário de dados:\n",
        "\n",
        "\n",
        "* **uuid**: ID do usuário\n",
        "* **country**: País do usuário\n",
        "* **gender**: Gênero do usuário\n",
        "* **spent**: Valor total gasto pelo usuário\n",
        "* **purchases**: Compras do usuário\n",
        "* **date**: Data da compra\n",
        "* **group**: Grupo do teste AB que usuário está inserido\n",
        "* **device**: I -> compra feita pela internet, A -> compra feita pelo APP\n",
        "* **year**: Ano em que ocorreu a compra\n",
        "* **month**: Mês em que ocorreu a compra\n"
      ],
      "metadata": {
        "id": "CBCDXNeOQKQC"
      }
    },
    {
      "cell_type": "code",
      "source": [
        "# Checking buys for gender\n",
        "sns.barplot(data=df.groupby('gender', as_index=False).agg({'purchases': 'sum'}), x='gender', y='purchases')\n",
        "plt.show()"
      ],
      "metadata": {
        "colab": {
          "base_uri": "https://localhost:8080/",
          "height": 279
        },
        "id": "2v81EZb5Q9Sz",
        "outputId": "545ae0e6-33a0-41f4-b8a8-f99fd960f860"
      },
      "execution_count": 6,
      "outputs": [
        {
          "output_type": "display_data",
          "data": {
            "text/plain": [
              "<Figure size 432x288 with 1 Axes>"
            ],
            "image/png": "[encoded data removed]"
          },
          "metadata": {}
        }
      ]
    },
    {
      "cell_type": "code",
      "source": [
        "# Check buys by country\n",
        "sns.barplot(data=df.groupby('country', as_index=False).agg({'purchases': 'sum'}), x='country', y='purchases')\n",
        "plt.show()"
      ],
      "metadata": {
        "colab": {
          "base_uri": "https://localhost:8080/",
          "height": 279
        },
        "id": "0I5H2vEuU1Un",
        "outputId": "70906080-dcd1-4f4f-ae03-1fe9ecc3ae59"
      },
      "execution_count": 7,
      "outputs": [
        {
          "output_type": "display_data",
          "data": {
            "text/plain": [
              "<Figure size 432x288 with 1 Axes>"
            ],
            "image/png": "[encoded data removed]"
          },
          "metadata": {}
        }
      ]
    },
    {
      "cell_type": "code",
      "source": [
        "# Check buys by group\n",
        "sns.barplot(data=df.groupby('group', as_index=False).agg({'purchases': 'sum'}), x='group', y='purchases')\n",
        "plt.show()"
      ],
      "metadata": {
        "colab": {
          "base_uri": "https://localhost:8080/",
          "height": 279
        },
        "id": "r0hGxigaVMtu",
        "outputId": "12038fa3-3e3e-4f24-c4ca-91320195ce16"
      },
      "execution_count": 8,
      "outputs": [
        {
          "output_type": "display_data",
          "data": {
            "text/plain": [
              "<Figure size 432x288 with 1 Axes>"
            ],
            "image/png": "[encoded data removed]"
          },
          "metadata": {}
        }
      ]
    },
    {
      "cell_type": "code",
      "source": [
        "# Check buys by device\n",
        "sns.barplot(data=df.groupby('device', as_index=False).agg({'purchases': 'sum'}), x='device', y='purchases')\n",
        "plt.show()"
      ],
      "metadata": {
        "colab": {
          "base_uri": "https://localhost:8080/",
          "height": 279
        },
        "id": "_H7HpVPUVkC7",
        "outputId": "b679ea3a-0c0f-450c-9cfd-e32ffd0fb9c8"
      },
      "execution_count": 9,
      "outputs": [
        {
          "output_type": "display_data",
          "data": {
            "text/plain": [
              "<Figure size 432x288 with 1 Axes>"
            ],
            "image/png": "[encoded data removed]"
          },
          "metadata": {}
        }
      ]
    },
    {
      "cell_type": "code",
      "source": [
        "# Check buys by year\n",
        "sns.barplot(data=df.groupby('year', as_index=False).agg({'purchases': 'sum'}), x='year', y='purchases')\n",
        "plt.show()"
      ],
      "metadata": {
        "colab": {
          "base_uri": "https://localhost:8080/",
          "height": 279
        },
        "id": "ppltHzRIWlrs",
        "outputId": "f314a256-36a5-45e5-9b41-72af6804d4be"
      },
      "execution_count": 10,
      "outputs": [
        {
          "output_type": "display_data",
          "data": {
            "text/plain": [
              "<Figure size 432x288 with 1 Axes>"
            ],
            "image/png": "[encoded data removed]"
          },
          "metadata": {}
        }
      ]
    },
    {
      "cell_type": "code",
      "source": [
        "# Check buys by month\n",
        "sns.barplot(data=df.groupby('month', as_index=False).agg({'purchases': 'sum'}), x='month', y='purchases')\n",
        "plt.show()"
      ],
      "metadata": {
        "colab": {
          "base_uri": "https://localhost:8080/",
          "height": 279
        },
        "id": "1UukyC1qWrTf",
        "outputId": "83e16596-6264-43ff-ad23-08ffeee369a2"
      },
      "execution_count": 11,
      "outputs": [
        {
          "output_type": "display_data",
          "data": {
            "text/plain": [
              "<Figure size 432x288 with 1 Axes>"
            ],
            "image/png": "[encoded data removed]"
          },
          "metadata": {}
        }
      ]
    },
    {
      "cell_type": "code",
      "source": [
        "# Check spent by gender\n",
        "sns.barplot(data=df.groupby('gender', as_index=False).agg({'spent': 'sum'}), x='gender', y='spent')\n",
        "plt.show()"
      ],
      "metadata": {
        "colab": {
          "base_uri": "https://localhost:8080/",
          "height": 290
        },
        "id": "B_FctgcPUL9q",
        "outputId": "b2c45da7-83c1-4963-d84b-901f892ed0d9"
      },
      "execution_count": 12,
      "outputs": [
        {
          "output_type": "display_data",
          "data": {
            "text/plain": [
              "<Figure size 432x288 with 1 Axes>"
            ],
            "image/png": "[encoded data removed]"
          },
          "metadata": {}
        }
      ]
    },
    {
      "cell_type": "code",
      "source": [
        "# Check spent by group\n",
        "sns.barplot(data=df.groupby('group', as_index=False).agg({'spent': 'sum'}), x='group', y='spent')\n",
        "plt.show()"
      ],
      "metadata": {
        "colab": {
          "base_uri": "https://localhost:8080/",
          "height": 290
        },
        "id": "fkQe-FJRVajn",
        "outputId": "fab57103-629e-4a0b-8e89-05b0beb70338"
      },
      "execution_count": 13,
      "outputs": [
        {
          "output_type": "display_data",
          "data": {
            "text/plain": [
              "<Figure size 432x288 with 1 Axes>"
            ],
            "image/png": "[encoded data removed]"
          },
          "metadata": {}
        }
      ]
    },
    {
      "cell_type": "code",
      "source": [
        "# Check average purchase and spent by group and device\n",
        "df.groupby(['group', 'device'], as_index=False).agg({'purchases': 'mean', 'spent': 'mean'}).head()"
      ],
      "metadata": {
        "colab": {
          "base_uri": "https://localhost:8080/",
          "height": 175
        },
        "id": "OEEu_XaoZC4R",
        "outputId": "8a3a0c87-73b3-46e0-e51e-9481af1714a7"
      },
      "execution_count": 14,
      "outputs": [
        {
          "output_type": "execute_result",
          "data": {
            "text/plain": [
              "   group device  purchases        spent\n",
              "0  GRP A      A   4.526160  1880.404631\n",
              "1  GRP A      I   4.546520  1880.603628\n",
              "2  GRP B      A   4.558069  1889.334928\n",
              "3  GRP B      I   4.546797  1883.474998"
            ],
            "text/html": [
              "\n",
              "  <div id=\"df-e70264d8-bc8f-4aeb-bd26-24944eb9baf6\">\n",
              "    <div class=\"colab-df-container\">\n",
              "      <div>\n",
              "<style scoped>\n",
              "    .dataframe tbody tr th:only-of-type {\n",
              "        vertical-align: middle;\n",
              "    }\n",
              "\n",
              "    .dataframe tbody tr th {\n",
              "        vertical-align: top;\n",
              "    }\n",
              "\n",
              "    .dataframe thead th {\n",
              "        text-align: right;\n",
              "    }\n",
              "</style>\n",
              "<table border=\"1\" class=\"dataframe\">\n",
              "  <thead>\n",
              "    <tr style=\"text-align: right;\">\n",
              "      <th></th>\n",
              "      <th>group</th>\n",
              "      <th>device</th>\n",
              "      <th>purchases</th>\n",
              "      <th>spent</th>\n",
              "    </tr>\n",
              "  </thead>\n",
              "  <tbody>\n",
              "    <tr>\n",
              "      <th>0</th>\n",
              "      <td>GRP A</td>\n",
              "      <td>A</td>\n",
              "      <td>4.526160</td>\n",
              "      <td>1880.404631</td>\n",
              "    </tr>\n",
              "    <tr>\n",
              "      <th>1</th>\n",
              "      <td>GRP A</td>\n",
              "      <td>I</td>\n",
              "      <td>4.546520</td>\n",
              "      <td>1880.603628</td>\n",
              "    </tr>\n",
              "    <tr>\n",
              "      <th>2</th>\n",
              "      <td>GRP B</td>\n",
              "      <td>A</td>\n",
              "      <td>4.558069</td>\n",
              "      <td>1889.334928</td>\n",
              "    </tr>\n",
              "    <tr>\n",
              "      <th>3</th>\n",
              "      <td>GRP B</td>\n",
              "      <td>I</td>\n",
              "      <td>4.546797</td>\n",
              "      <td>1883.474998</td>\n",
              "    </tr>\n",
              "  </tbody>\n",
              "</table>\n",
              "</div>\n",
              "      <button class=\"colab-df-convert\" onclick=\"convertToInteractive('df-e70264d8-bc8f-4aeb-bd26-24944eb9baf6')\"\n",
              "              title=\"Convert this dataframe to an interactive table.\"\n",
              "              style=\"display:none;\">\n",
              "        \n",
              "  <svg xmlns=\"http://www.w3.org/2000/svg\" height=\"24px\"viewBox=\"0 0 24 24\"\n",
              "       width=\"24px\">\n",
              "    <path d=\"M0 0h24v24H0V0z\" fill=\"none\"/>\n",
              "    <path d=\"M18.56 5.44l.94 2.06.94-2.06 2.06-.94-2.06-.94-.94-2.06-.94 2.06-2.06.94zm-11 1L8.5 8.5l.94-2.06 2.06-.94-2.06-.94L8.5 2.5l-.94 2.06-2.06.94zm10 10l.94 2.06.94-2.06 2.06-.94-2.06-.94-.94-2.06-.94 2.06-2.06.94z\"/><path d=\"M17.41 7.96l-1.37-1.37c-.4-.4-.92-.59-1.43-.59-.52 0-1.04.2-1.43.59L10.3 9.45l-7.72 7.72c-.78.78-.78 2.05 0 2.83L4 21.41c.39.39.9.59 1.41.59.51 0 1.02-.2 1.41-.59l7.78-7.78 2.81-2.81c.8-.78.8-2.07 0-2.86zM5.41 20L4 18.59l7.72-7.72 1.47 1.35L5.41 20z\"/>\n",
              "  </svg>\n",
              "      </button>\n",
              "      \n",
              "  <style>\n",
              "    .colab-df-container {\n",
              "      display:flex;\n",
              "      flex-wrap:wrap;\n",
              "      gap: 12px;\n",
              "    }\n",
              "\n",
              "    .colab-df-convert {\n",
              "      background-color: #E8F0FE;\n",
              "      border: none;\n",
              "      border-radius: 50%;\n",
              "      cursor: pointer;\n",
              "      display: none;\n",
              "      fill: #1967D2;\n",
              "      height: 32px;\n",
              "      padding: 0 0 0 0;\n",
              "      width: 32px;\n",
              "    }\n",
              "\n",
              "    .colab-df-convert:hover {\n",
              "      background-color: #E2EBFA;\n",
              "      box-shadow: 0px 1px 2px rgba(60, 64, 67, 0.3), 0px 1px 3px 1px rgba(60, 64, 67, 0.15);\n",
              "      fill: #174EA6;\n",
              "    }\n",
              "\n",
              "    [theme=dark] .colab-df-convert {\n",
              "      background-color: #3B4455;\n",
              "      fill: #D2E3FC;\n",
              "    }\n",
              "\n",
              "    [theme=dark] .colab-df-convert:hover {\n",
              "      background-color: #434B5C;\n",
              "      box-shadow: 0px 1px 3px 1px rgba(0, 0, 0, 0.15);\n",
              "      filter: drop-shadow(0px 1px 2px rgba(0, 0, 0, 0.3));\n",
              "      fill: #FFFFFF;\n",
              "    }\n",
              "  </style>\n",
              "\n",
              "      <script>\n",
              "        const buttonEl =\n",
              "          document.querySelector('#df-e70264d8-bc8f-4aeb-bd26-24944eb9baf6 button.colab-df-convert');\n",
              "        buttonEl.style.display =\n",
              "          google.colab.kernel.accessAllowed ? 'block' : 'none';\n",
              "\n",
              "        async function convertToInteractive(key) {\n",
              "          const element = document.querySelector('#df-e70264d8-bc8f-4aeb-bd26-24944eb9baf6');\n",
              "          const dataTable =\n",
              "            await google.colab.kernel.invokeFunction('convertToInteractive',\n",
              "                                                     [key], {});\n",
              "          if (!dataTable) return;\n",
              "\n",
              "          const docLinkHtml = 'Like what you see? Visit the ' +\n",
              "            '<a target=\"_blank\" href=https://colab.research.google.com/notebooks/data_table.ipynb>data table notebook</a>'\n",
              "            + ' to learn more about interactive tables.';\n",
              "          element.innerHTML = '';\n",
              "          dataTable['output_type'] = 'display_data';\n",
              "          await google.colab.output.renderOutput(dataTable, element);\n",
              "          const docLink = document.createElement('div');\n",
              "          docLink.innerHTML = docLinkHtml;\n",
              "          element.appendChild(docLink);\n",
              "        }\n",
              "      </script>\n",
              "    </div>\n",
              "  </div>\n",
              "  "
            ]
          },
          "metadata": {},
          "execution_count": 14
        }
      ]
    },
    {
      "cell_type": "code",
      "source": [
        "# Check average spent by group\n",
        "df.groupby(['group'], as_index=False).agg({'spent': 'mean'}).head()"
      ],
      "metadata": {
        "colab": {
          "base_uri": "https://localhost:8080/",
          "height": 112
        },
        "id": "EuHwpOrRRDP9",
        "outputId": "e47a53c2-a609-446d-eb2e-2383f2fd9bc3"
      },
      "execution_count": 15,
      "outputs": [
        {
          "output_type": "execute_result",
          "data": {
            "text/plain": [
              "   group        spent\n",
              "0  GRP A  1880.504281\n",
              "1  GRP B  1886.419822"
            ],
            "text/html": [
              "\n",
              "  <div id=\"df-d9bc4198-fb99-4ba5-bf7e-7c1639ad0ae7\">\n",
              "    <div class=\"colab-df-container\">\n",
              "      <div>\n",
              "<style scoped>\n",
              "    .dataframe tbody tr th:only-of-type {\n",
              "        vertical-align: middle;\n",
              "    }\n",
              "\n",
              "    .dataframe tbody tr th {\n",
              "        vertical-align: top;\n",
              "    }\n",
              "\n",
              "    .dataframe thead th {\n",
              "        text-align: right;\n",
              "    }\n",
              "</style>\n",
              "<table border=\"1\" class=\"dataframe\">\n",
              "  <thead>\n",
              "    <tr style=\"text-align: right;\">\n",
              "      <th></th>\n",
              "      <th>group</th>\n",
              "      <th>spent</th>\n",
              "    </tr>\n",
              "  </thead>\n",
              "  <tbody>\n",
              "    <tr>\n",
              "      <th>0</th>\n",
              "      <td>GRP A</td>\n",
              "      <td>1880.504281</td>\n",
              "    </tr>\n",
              "    <tr>\n",
              "      <th>1</th>\n",
              "      <td>GRP B</td>\n",
              "      <td>1886.419822</td>\n",
              "    </tr>\n",
              "  </tbody>\n",
              "</table>\n",
              "</div>\n",
              "      <button class=\"colab-df-convert\" onclick=\"convertToInteractive('df-d9bc4198-fb99-4ba5-bf7e-7c1639ad0ae7')\"\n",
              "              title=\"Convert this dataframe to an interactive table.\"\n",
              "              style=\"display:none;\">\n",
              "        \n",
              "  <svg xmlns=\"http://www.w3.org/2000/svg\" height=\"24px\"viewBox=\"0 0 24 24\"\n",
              "       width=\"24px\">\n",
              "    <path d=\"M0 0h24v24H0V0z\" fill=\"none\"/>\n",
              "    <path d=\"M18.56 5.44l.94 2.06.94-2.06 2.06-.94-2.06-.94-.94-2.06-.94 2.06-2.06.94zm-11 1L8.5 8.5l.94-2.06 2.06-.94-2.06-.94L8.5 2.5l-.94 2.06-2.06.94zm10 10l.94 2.06.94-2.06 2.06-.94-2.06-.94-.94-2.06-.94 2.06-2.06.94z\"/><path d=\"M17.41 7.96l-1.37-1.37c-.4-.4-.92-.59-1.43-.59-.52 0-1.04.2-1.43.59L10.3 9.45l-7.72 7.72c-.78.78-.78 2.05 0 2.83L4 21.41c.39.39.9.59 1.41.59.51 0 1.02-.2 1.41-.59l7.78-7.78 2.81-2.81c.8-.78.8-2.07 0-2.86zM5.41 20L4 18.59l7.72-7.72 1.47 1.35L5.41 20z\"/>\n",
              "  </svg>\n",
              "      </button>\n",
              "      \n",
              "  <style>\n",
              "    .colab-df-container {\n",
              "      display:flex;\n",
              "      flex-wrap:wrap;\n",
              "      gap: 12px;\n",
              "    }\n",
              "\n",
              "    .colab-df-convert {\n",
              "      background-color: #E8F0FE;\n",
              "      border: none;\n",
              "      border-radius: 50%;\n",
              "      cursor: pointer;\n",
              "      display: none;\n",
              "      fill: #1967D2;\n",
              "      height: 32px;\n",
              "      padding: 0 0 0 0;\n",
              "      width: 32px;\n",
              "    }\n",
              "\n",
              "    .colab-df-convert:hover {\n",
              "      background-color: #E2EBFA;\n",
              "      box-shadow: 0px 1px 2px rgba(60, 64, 67, 0.3), 0px 1px 3px 1px rgba(60, 64, 67, 0.15);\n",
              "      fill: #174EA6;\n",
              "    }\n",
              "\n",
              "    [theme=dark] .colab-df-convert {\n",
              "      background-color: #3B4455;\n",
              "      fill: #D2E3FC;\n",
              "    }\n",
              "\n",
              "    [theme=dark] .colab-df-convert:hover {\n",
              "      background-color: #434B5C;\n",
              "      box-shadow: 0px 1px 3px 1px rgba(0, 0, 0, 0.15);\n",
              "      filter: drop-shadow(0px 1px 2px rgba(0, 0, 0, 0.3));\n",
              "      fill: #FFFFFF;\n",
              "    }\n",
              "  </style>\n",
              "\n",
              "      <script>\n",
              "        const buttonEl =\n",
              "          document.querySelector('#df-d9bc4198-fb99-4ba5-bf7e-7c1639ad0ae7 button.colab-df-convert');\n",
              "        buttonEl.style.display =\n",
              "          google.colab.kernel.accessAllowed ? 'block' : 'none';\n",
              "\n",
              "        async function convertToInteractive(key) {\n",
              "          const element = document.querySelector('#df-d9bc4198-fb99-4ba5-bf7e-7c1639ad0ae7');\n",
              "          const dataTable =\n",
              "            await google.colab.kernel.invokeFunction('convertToInteractive',\n",
              "                                                     [key], {});\n",
              "          if (!dataTable) return;\n",
              "\n",
              "          const docLinkHtml = 'Like what you see? Visit the ' +\n",
              "            '<a target=\"_blank\" href=https://colab.research.google.com/notebooks/data_table.ipynb>data table notebook</a>'\n",
              "            + ' to learn more about interactive tables.';\n",
              "          element.innerHTML = '';\n",
              "          dataTable['output_type'] = 'display_data';\n",
              "          await google.colab.output.renderOutput(dataTable, element);\n",
              "          const docLink = document.createElement('div');\n",
              "          docLink.innerHTML = docLinkHtml;\n",
              "          element.appendChild(docLink);\n",
              "        }\n",
              "      </script>\n",
              "    </div>\n",
              "  </div>\n",
              "  "
            ]
          },
          "metadata": {},
          "execution_count": 15
        }
      ]
    },
    {
      "cell_type": "markdown",
      "source": [
        "Podemos assumir que o grupo B tem um ticket médio maior que o grupo A e isso não acontece devido ao acaso?"
      ],
      "metadata": {
        "id": "ixGZTMjjbJLe"
      }
    },
    {
      "cell_type": "markdown",
      "source": [
        "### **Experimento**\n",
        "\n",
        "Passos:\n",
        " - Escolha do método:\n",
        "    - Diferença de médias;\n",
        " - Preparação dos dados:\n",
        "    - Divisão dos grupos;\n",
        " - Teste de hipótese"
      ],
      "metadata": {
        "id": "IbPeBJN3QZSC"
      }
    },
    {
      "cell_type": "markdown",
      "source": [
        "#### Escolha do método\n",
        "Podemos assumir que o grupo B tem um ticket médio maior que o grupo A e isso não acontece devido ao acaso?\n",
        "\n",
        "Portanto diferença de médias."
      ],
      "metadata": {
        "id": "9SpH6pwuS8sS"
      }
    },
    {
      "cell_type": "markdown",
      "source": [
        "#### Preparação dos dados"
      ],
      "metadata": {
        "id": "1QzMhGMoTNL7"
      }
    },
    {
      "cell_type": "code",
      "source": [
        "# Check usuários que podem estar nos 2 grupos\n",
        "multigroup_users = df.groupby(['uid'], as_index=False).agg({'group': 'count'}).query('group > 1')['uid'].tolist()\n",
        "df_exp = df[~df.uid.isin(multigroup_users)]\n",
        "\n",
        "# Separando grupos\n",
        "df_gpa = df_exp[df_exp.group == 'GRP A']\n",
        "df_gpb = df_exp[df_exp.group == 'GRP B']\n",
        "\n",
        "df_gpa = df_gpa[['spent']]\n",
        "df_gpb = df_gpb[['spent']]\n",
        "\n",
        "print('Pré ajuste')\n",
        "print(f'GRP A size: {df_gpa.shape}')\n",
        "print(f'GRP B size: {df_gpb.shape}\\n')\n",
        "\n",
        "# Como o grupo A tem mais dados\n",
        "# tirarei uma amostra aleatória \n",
        "# com o mesmo do grupo B\n",
        "\n",
        "df_gpa = df_gpa.sample(df_gpb.shape[0], random_state=42)\n",
        "print('Pós ajuste')\n",
        "print(f'GRP A size: {df_gpa.shape}')\n",
        "print(f'GRP B size: {df_gpb.shape}')"
      ],
      "metadata": {
        "colab": {
          "base_uri": "https://localhost:8080/"
        },
        "id": "F2F5u5yfQe_d",
        "outputId": "0891bb9e-8f9d-48c3-ab97-99d0444ca2e7"
      },
      "execution_count": 67,
      "outputs": [
        {
          "output_type": "stream",
          "name": "stdout",
          "text": [
            "Pré ajuste\n",
            "GRP A size: (23009, 1)\n",
            "GRP B size: (22874, 1)\n",
            "\n",
            "Pós ajuste\n",
            "GRP A size: (22874, 1)\n",
            "GRP B size: (22874, 1)\n"
          ]
        }
      ]
    },
    {
      "cell_type": "markdown",
      "source": [
        "##### Condições paramétricas"
      ],
      "metadata": {
        "id": "ANO3khR5f9FY"
      }
    },
    {
      "cell_type": "code",
      "source": [
        "# Amostras independentes - OK"
      ],
      "metadata": {
        "id": "MDJy7I4vgC5V"
      },
      "execution_count": 48,
      "outputs": []
    },
    {
      "cell_type": "code",
      "source": [
        "# Normalmente distribuídas - NOT OK\n",
        "\n",
        "# Para n > 5000 testes de normalidade não funcionam muito bem\n",
        "# https://medium.com/dados-e-saude/testes-de-normalidade-9dc9068bcf80\n",
        "\n",
        "from scipy.stats import kstest\n",
        "from scipy.stats import norm\n",
        "_, p_value_gpa = kstest(df_gpa, norm.cdf)\n",
        "_, p_value_gpb = kstest(df_gpb, norm.cdf)\n",
        "\n",
        "print(f'Kolmogorov p-value GRP A: {p_value_gpa}')\n",
        "print(f'Kolmogorov p-value GRP B: {p_value_gpb}')\n",
        "\n",
        "# Amostragem de 5000\n",
        "from scipy.stats import shapiro\n",
        "_, p_value_gpa = shapiro(df_gpa.spent.sample(3000, random_state=13))\n",
        "_, p_value_gpb = shapiro(df_gpa.spent.sample(3000, random_state=13))\n",
        "\n",
        "print(f'Shapiro p-value GRP A: {p_value_gpa}')\n",
        "print(f'Shapiro p-value GRP B: {p_value_gpb}')\n",
        "\n",
        "# Checando via histograma e boxplot\n",
        "import seaborn as sns\n",
        "sns.set_style('dark')\n",
        "\n",
        "sns.histplot(data=df_gpa['spent'], color='b')\n",
        "sns.histplot(data=df_gpb['spent'], color='r')"
      ],
      "metadata": {
        "colab": {
          "base_uri": "https://localhost:8080/",
          "height": 366
        },
        "id": "OvfWuJeHS6W6",
        "outputId": "e7999eda-0b6a-4518-a2eb-3f23d63b32ca"
      },
      "execution_count": 68,
      "outputs": [
        {
          "output_type": "stream",
          "name": "stdout",
          "text": [
            "Kolmogorov p-value GRP A: 0.0\n",
            "Kolmogorov p-value GRP B: 0.0\n",
            "Shapiro p-value GRP A: 8.169780241783332e-40\n",
            "Shapiro p-value GRP B: 8.169780241783332e-40\n"
          ]
        },
        {
          "output_type": "execute_result",
          "data": {
            "text/plain": [
              "<matplotlib.axes._subplots.AxesSubplot at 0x7ff9557f0d10>"
            ]
          },
          "metadata": {},
          "execution_count": 68
        },
        {
          "output_type": "display_data",
          "data": {
            "text/plain": [
              "<Figure size 432x288 with 1 Axes>"
            ],
            "image/png": "[encoded data removed]"
          },
          "metadata": {}
        }
      ]
    },
    {
      "cell_type": "code",
      "source": [
        "# Igualdade de variâncias - OK\n",
        "import numpy as np\n",
        "\n",
        "print(f'Variância GRP A: {np.var(df_gpa.spent)}')\n",
        "print(f'Variância GRP B: {np.var(df_gpb.spent)}')\n",
        "print(f'Diff variâncias: {np.var(df_gpa.spent) / np.var(df_gpb.spent)}')\n",
        "\n",
        "def f_test(samp_1, samp_2):\n",
        "    from scipy.stats import f    \n",
        "    f_test_statistic = np.var(samp_1, ddof=1) / np.var(samp_2, ddof=1)    \n",
        "    dfn = samp_1.size - 1 \n",
        "    dfd = samp_2.size - 1\n",
        "    p_value = 1 - f.cdf(f_test_statistic, dfn, dfd)    \n",
        "    return f_test_statistic, p_value\n",
        "\n",
        "_, p_value = f_test(df_gpa, df_gpb)\n",
        "print(f'p-value variância: {p_value[0]}')"
      ],
      "metadata": {
        "colab": {
          "base_uri": "https://localhost:8080/"
        },
        "id": "B5vYpc71gwNa",
        "outputId": "d53f77a3-1de3-4d2d-cf0b-605db044b3bc"
      },
      "execution_count": 69,
      "outputs": [
        {
          "output_type": "stream",
          "name": "stdout",
          "text": [
            "Variância GRP A: 1875300.0945003089\n",
            "Variância GRP B: 1847948.5699682112\n",
            "Diff variâncias: 1.0148010204269744\n",
            "p-value variância: 0.13327970707179992\n"
          ]
        }
      ]
    },
    {
      "cell_type": "markdown",
      "source": [
        "### Teste de hipótese\n",
        "Por não possuirem uma distribuição normal o teste utilizado será o Mann-Whitney U, o teste de Wilcoxon é só pra caráter informativo"
      ],
      "metadata": {
        "id": "xjgzsuUaia5D"
      }
    },
    {
      "cell_type": "code",
      "source": [
        "from scipy.stats import mannwhitneyu\n",
        "_, p_value = mannwhitneyu(df_gpa, df_gpb)\n",
        "\n",
        "print('Mann-Whitney U-test')\n",
        "print(f'Resultado teste hipótese: {p_value[0]}\\n')\n",
        "\n",
        "from scipy.stats import wilcoxon\n",
        "_, p_value = wilcoxon(df_gpa.spent, df_gpb.spent)\n",
        "\n",
        "print('Wilcoxon test')\n",
        "print(f'Resultado teste hipótese: {p_value}\\n')"
      ],
      "metadata": {
        "colab": {
          "base_uri": "https://localhost:8080/"
        },
        "id": "3Cbp2zJPiZ-d",
        "outputId": "a49d5b13-ea09-4568-8918-240835cbc036"
      },
      "execution_count": 71,
      "outputs": [
        {
          "output_type": "stream",
          "name": "stdout",
          "text": [
            "Mann-Whitney U-test\n",
            "Resultado teste hipótese: 0.434294667300135\n",
            "\n",
            "Wilcoxon test\n",
            "Resultado teste hipótese: 0.16064447787363112\n",
            "\n"
          ]
        }
      ]
    }
  ]
}