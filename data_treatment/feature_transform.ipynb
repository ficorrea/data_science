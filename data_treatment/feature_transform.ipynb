{
 "cells": [
  {
   "cell_type": "code",
   "execution_count": 7,
   "id": "02073e5f",
   "metadata": {},
   "outputs": [],
   "source": [
    "import pandas as pd\n",
    "import numpy as np\n",
    "import matplotlib.pyplot as plt"
   ]
  },
  {
   "cell_type": "code",
   "execution_count": 18,
   "id": "73b702e1",
   "metadata": {},
   "outputs": [],
   "source": [
    "df = pd.read_csv('./datasets/arvores.csv')"
   ]
  },
  {
   "cell_type": "code",
   "execution_count": 3,
   "id": "277fd871",
   "metadata": {},
   "outputs": [
    {
     "data": {
      "text/html": [
       "<div>\n",
       "<style scoped>\n",
       "    .dataframe tbody tr th:only-of-type {\n",
       "        vertical-align: middle;\n",
       "    }\n",
       "\n",
       "    .dataframe tbody tr th {\n",
       "        vertical-align: top;\n",
       "    }\n",
       "\n",
       "    .dataframe thead th {\n",
       "        text-align: right;\n",
       "    }\n",
       "</style>\n",
       "<table border=\"1\" class=\"dataframe\">\n",
       "  <thead>\n",
       "    <tr style=\"text-align: right;\">\n",
       "      <th></th>\n",
       "      <th>especie</th>\n",
       "      <th>Mn</th>\n",
       "      <th>Fe</th>\n",
       "      <th>Cu</th>\n",
       "      <th>Zn</th>\n",
       "      <th>Rb</th>\n",
       "      <th>Sr</th>\n",
       "      <th>Ba</th>\n",
       "      <th>Na</th>\n",
       "      <th>Mg</th>\n",
       "      <th>Al</th>\n",
       "      <th>P</th>\n",
       "      <th>S</th>\n",
       "      <th>Cl</th>\n",
       "      <th>K</th>\n",
       "      <th>Ca</th>\n",
       "      <th>tipovia</th>\n",
       "    </tr>\n",
       "  </thead>\n",
       "  <tbody>\n",
       "    <tr>\n",
       "      <th>0</th>\n",
       "      <td>Sibipiruna</td>\n",
       "      <td>34.33</td>\n",
       "      <td>517.36</td>\n",
       "      <td>4.23</td>\n",
       "      <td>33.77</td>\n",
       "      <td>5.56</td>\n",
       "      <td>82.40</td>\n",
       "      <td>158.52</td>\n",
       "      <td>26.53</td>\n",
       "      <td>537.0</td>\n",
       "      <td>405.84</td>\n",
       "      <td>1100.0</td>\n",
       "      <td>2470.0</td>\n",
       "      <td>47.95</td>\n",
       "      <td>1163.0</td>\n",
       "      <td>36737.0</td>\n",
       "      <td>Collector</td>\n",
       "    </tr>\n",
       "    <tr>\n",
       "      <th>1</th>\n",
       "      <td>Sibipiruna</td>\n",
       "      <td>41.06</td>\n",
       "      <td>2151.42</td>\n",
       "      <td>6.22</td>\n",
       "      <td>192.80</td>\n",
       "      <td>19.16</td>\n",
       "      <td>109.79</td>\n",
       "      <td>842.10</td>\n",
       "      <td>20.95</td>\n",
       "      <td>1563.0</td>\n",
       "      <td>1563.01</td>\n",
       "      <td>843.0</td>\n",
       "      <td>3210.0</td>\n",
       "      <td>88.14</td>\n",
       "      <td>1055.0</td>\n",
       "      <td>29335.0</td>\n",
       "      <td>Collector</td>\n",
       "    </tr>\n",
       "    <tr>\n",
       "      <th>2</th>\n",
       "      <td>Sibipiruna</td>\n",
       "      <td>48.63</td>\n",
       "      <td>1215.05</td>\n",
       "      <td>7.12</td>\n",
       "      <td>295.84</td>\n",
       "      <td>12.20</td>\n",
       "      <td>198.50</td>\n",
       "      <td>756.37</td>\n",
       "      <td>26.44</td>\n",
       "      <td>1124.0</td>\n",
       "      <td>935.44</td>\n",
       "      <td>1086.0</td>\n",
       "      <td>3632.0</td>\n",
       "      <td>153.47</td>\n",
       "      <td>1882.0</td>\n",
       "      <td>37991.0</td>\n",
       "      <td>Collector</td>\n",
       "    </tr>\n",
       "    <tr>\n",
       "      <th>3</th>\n",
       "      <td>Alfeneiro</td>\n",
       "      <td>39.83</td>\n",
       "      <td>1183.79</td>\n",
       "      <td>5.60</td>\n",
       "      <td>100.67</td>\n",
       "      <td>6.49</td>\n",
       "      <td>49.10</td>\n",
       "      <td>544.96</td>\n",
       "      <td>20.96</td>\n",
       "      <td>1450.0</td>\n",
       "      <td>661.81</td>\n",
       "      <td>700.0</td>\n",
       "      <td>2483.0</td>\n",
       "      <td>55.69</td>\n",
       "      <td>1145.0</td>\n",
       "      <td>15043.0</td>\n",
       "      <td>Local II</td>\n",
       "    </tr>\n",
       "    <tr>\n",
       "      <th>4</th>\n",
       "      <td>Tipuana</td>\n",
       "      <td>23.19</td>\n",
       "      <td>695.74</td>\n",
       "      <td>6.67</td>\n",
       "      <td>154.11</td>\n",
       "      <td>16.97</td>\n",
       "      <td>171.65</td>\n",
       "      <td>700.49</td>\n",
       "      <td>13.87</td>\n",
       "      <td>2898.0</td>\n",
       "      <td>616.29</td>\n",
       "      <td>773.0</td>\n",
       "      <td>6058.0</td>\n",
       "      <td>718.40</td>\n",
       "      <td>1748.0</td>\n",
       "      <td>39113.0</td>\n",
       "      <td>Collector</td>\n",
       "    </tr>\n",
       "  </tbody>\n",
       "</table>\n",
       "</div>"
      ],
      "text/plain": [
       "      especie     Mn       Fe    Cu      Zn     Rb      Sr      Ba     Na  \\\n",
       "0  Sibipiruna  34.33   517.36  4.23   33.77   5.56   82.40  158.52  26.53   \n",
       "1  Sibipiruna  41.06  2151.42  6.22  192.80  19.16  109.79  842.10  20.95   \n",
       "2  Sibipiruna  48.63  1215.05  7.12  295.84  12.20  198.50  756.37  26.44   \n",
       "3   Alfeneiro  39.83  1183.79  5.60  100.67   6.49   49.10  544.96  20.96   \n",
       "4     Tipuana  23.19   695.74  6.67  154.11  16.97  171.65  700.49  13.87   \n",
       "\n",
       "       Mg       Al       P       S      Cl       K       Ca    tipovia  \n",
       "0   537.0   405.84  1100.0  2470.0   47.95  1163.0  36737.0  Collector  \n",
       "1  1563.0  1563.01   843.0  3210.0   88.14  1055.0  29335.0  Collector  \n",
       "2  1124.0   935.44  1086.0  3632.0  153.47  1882.0  37991.0  Collector  \n",
       "3  1450.0   661.81   700.0  2483.0   55.69  1145.0  15043.0   Local II  \n",
       "4  2898.0   616.29   773.0  6058.0  718.40  1748.0  39113.0  Collector  "
      ]
     },
     "execution_count": 3,
     "metadata": {},
     "output_type": "execute_result"
    }
   ],
   "source": [
    "df.head()"
   ]
  },
  {
   "cell_type": "code",
   "execution_count": 52,
   "id": "7df10e67",
   "metadata": {},
   "outputs": [],
   "source": [
    "dd = df[df.especie == 'Tipuana'][['Fe']]"
   ]
  },
  {
   "cell_type": "code",
   "execution_count": 53,
   "id": "d6696429",
   "metadata": {},
   "outputs": [
    {
     "data": {
      "text/html": [
       "<div>\n",
       "<style scoped>\n",
       "    .dataframe tbody tr th:only-of-type {\n",
       "        vertical-align: middle;\n",
       "    }\n",
       "\n",
       "    .dataframe tbody tr th {\n",
       "        vertical-align: top;\n",
       "    }\n",
       "\n",
       "    .dataframe thead th {\n",
       "        text-align: right;\n",
       "    }\n",
       "</style>\n",
       "<table border=\"1\" class=\"dataframe\">\n",
       "  <thead>\n",
       "    <tr style=\"text-align: right;\">\n",
       "      <th></th>\n",
       "      <th>Fe</th>\n",
       "      <th>p0</th>\n",
       "      <th>p.5</th>\n",
       "      <th>p.33</th>\n",
       "      <th>-p.25</th>\n",
       "    </tr>\n",
       "  </thead>\n",
       "  <tbody>\n",
       "    <tr>\n",
       "      <th>4</th>\n",
       "      <td>695.74</td>\n",
       "      <td>6.544976</td>\n",
       "      <td>26.376884</td>\n",
       "      <td>8.669768</td>\n",
       "      <td>-5.135843</td>\n",
       "    </tr>\n",
       "    <tr>\n",
       "      <th>5</th>\n",
       "      <td>476.62</td>\n",
       "      <td>6.166720</td>\n",
       "      <td>21.831628</td>\n",
       "      <td>7.652386</td>\n",
       "      <td>-4.672433</td>\n",
       "    </tr>\n",
       "    <tr>\n",
       "      <th>8</th>\n",
       "      <td>623.74</td>\n",
       "      <td>6.435734</td>\n",
       "      <td>24.974787</td>\n",
       "      <td>8.362790</td>\n",
       "      <td>-4.997478</td>\n",
       "    </tr>\n",
       "    <tr>\n",
       "      <th>9</th>\n",
       "      <td>556.85</td>\n",
       "      <td>6.322296</td>\n",
       "      <td>23.597669</td>\n",
       "      <td>8.055521</td>\n",
       "      <td>-4.857743</td>\n",
       "    </tr>\n",
       "    <tr>\n",
       "      <th>10</th>\n",
       "      <td>1077.51</td>\n",
       "      <td>6.982408</td>\n",
       "      <td>32.825447</td>\n",
       "      <td>10.016109</td>\n",
       "      <td>-5.729350</td>\n",
       "    </tr>\n",
       "    <tr>\n",
       "      <th>12</th>\n",
       "      <td>1312.82</td>\n",
       "      <td>7.179933</td>\n",
       "      <td>36.232858</td>\n",
       "      <td>10.690739</td>\n",
       "      <td>-6.019374</td>\n",
       "    </tr>\n",
       "    <tr>\n",
       "      <th>14</th>\n",
       "      <td>398.32</td>\n",
       "      <td>5.987256</td>\n",
       "      <td>19.957956</td>\n",
       "      <td>7.212347</td>\n",
       "      <td>-4.467433</td>\n",
       "    </tr>\n",
       "    <tr>\n",
       "      <th>16</th>\n",
       "      <td>851.43</td>\n",
       "      <td>6.746917</td>\n",
       "      <td>29.179273</td>\n",
       "      <td>9.267213</td>\n",
       "      <td>-5.401784</td>\n",
       "    </tr>\n",
       "    <tr>\n",
       "      <th>17</th>\n",
       "      <td>1429.08</td>\n",
       "      <td>7.264786</td>\n",
       "      <td>37.803174</td>\n",
       "      <td>10.994327</td>\n",
       "      <td>-6.148429</td>\n",
       "    </tr>\n",
       "    <tr>\n",
       "      <th>19</th>\n",
       "      <td>775.03</td>\n",
       "      <td>6.652902</td>\n",
       "      <td>27.839361</td>\n",
       "      <td>8.984111</td>\n",
       "      <td>-5.276302</td>\n",
       "    </tr>\n",
       "  </tbody>\n",
       "</table>\n",
       "</div>"
      ],
      "text/plain": [
       "         Fe        p0        p.5       p.33     -p.25\n",
       "4    695.74  6.544976  26.376884   8.669768 -5.135843\n",
       "5    476.62  6.166720  21.831628   7.652386 -4.672433\n",
       "8    623.74  6.435734  24.974787   8.362790 -4.997478\n",
       "9    556.85  6.322296  23.597669   8.055521 -4.857743\n",
       "10  1077.51  6.982408  32.825447  10.016109 -5.729350\n",
       "12  1312.82  7.179933  36.232858  10.690739 -6.019374\n",
       "14   398.32  5.987256  19.957956   7.212347 -4.467433\n",
       "16   851.43  6.746917  29.179273   9.267213 -5.401784\n",
       "17  1429.08  7.264786  37.803174  10.994327 -6.148429\n",
       "19   775.03  6.652902  27.839361   8.984111 -5.276302"
      ]
     },
     "execution_count": 53,
     "metadata": {},
     "output_type": "execute_result"
    }
   ],
   "source": [
    "# Transformations\n",
    "dd['p0'] = dd['Fe'].apply(lambda x: np.log(x))\n",
    "dd['p.5'] = dd['Fe'].apply(lambda x: x**0.5)\n",
    "dd['p.33'] = dd['Fe'].apply(lambda x: x**0.33)\n",
    "dd['-p.25'] = dd['Fe'].apply(lambda x: -x**0.25)\n",
    "\n",
    "dd.head(10)"
   ]
  },
  {
   "cell_type": "code",
   "execution_count": 54,
   "id": "30f1b386",
   "metadata": {
    "cell_style": "split"
   },
   "outputs": [
    {
     "data": {
      "image/png": "[encoded data removed]",
      "text/plain": [
       "<Figure size 640x480 with 1 Axes>"
      ]
     },
     "metadata": {},
     "output_type": "display_data"
    }
   ],
   "source": [
    "plt.hist(dd.Fe);"
   ]
  },
  {
   "cell_type": "code",
   "execution_count": 56,
   "id": "60686021",
   "metadata": {
    "cell_style": "split"
   },
   "outputs": [
    {
     "data": {
      "image/png": "[encoded data removed]",
      "text/plain": [
       "<Figure size 640x480 with 1 Axes>"
      ]
     },
     "metadata": {},
     "output_type": "display_data"
    }
   ],
   "source": [
    "plt.hist(dd.p0);"
   ]
  },
  {
   "cell_type": "code",
   "execution_count": null,
   "id": "3b482934",
   "metadata": {},
   "outputs": [],
   "source": []
  },
  {
   "cell_type": "code",
   "execution_count": 57,
   "id": "40c15a06",
   "metadata": {
    "cell_style": "split"
   },
   "outputs": [
    {
     "data": {
      "image/png": "[encoded data removed]",
      "text/plain": [
       "<Figure size 640x480 with 1 Axes>"
      ]
     },
     "metadata": {},
     "output_type": "display_data"
    }
   ],
   "source": [
    "plt.hist(dd['p.5']);"
   ]
  },
  {
   "cell_type": "code",
   "execution_count": 58,
   "id": "142faa0c",
   "metadata": {
    "cell_style": "split"
   },
   "outputs": [
    {
     "data": {
      "image/png": "[encoded data removed]",
      "text/plain": [
       "<Figure size 640x480 with 1 Axes>"
      ]
     },
     "metadata": {},
     "output_type": "display_data"
    }
   ],
   "source": [
    "plt.hist(dd['p.33']);"
   ]
  },
  {
   "cell_type": "code",
   "execution_count": 59,
   "id": "30271f3d",
   "metadata": {
    "cell_style": "split"
   },
   "outputs": [
    {
     "data": {
      "image/png": "[encoded data removed]",
      "text/plain": [
       "<Figure size 640x480 with 1 Axes>"
      ]
     },
     "metadata": {},
     "output_type": "display_data"
    }
   ],
   "source": [
    "plt.hist(dd['-p.25']);"
   ]
  },
  {
   "cell_type": "code",
   "execution_count": null,
   "id": "a8f47c75",
   "metadata": {},
   "outputs": [],
   "source": []
  },
  {
   "cell_type": "code",
   "execution_count": null,
   "id": "b43d0e22",
   "metadata": {},
   "outputs": [],
   "source": []
  }
 ],
 "metadata": {
  "kernelspec": {
   "display_name": "Python 3 (ipykernel)",
   "language": "python",
   "name": "python3"
  },
  "language_info": {
   "codemirror_mode": {
    "name": "ipython",
    "version": 3
   },
   "file_extension": ".py",
   "mimetype": "text/x-python",
   "name": "python",
   "nbconvert_exporter": "python",
   "pygments_lexer": "ipython3",
   "version": "3.9.0"
  }
 },
 "nbformat": 4,
 "nbformat_minor": 5
}
