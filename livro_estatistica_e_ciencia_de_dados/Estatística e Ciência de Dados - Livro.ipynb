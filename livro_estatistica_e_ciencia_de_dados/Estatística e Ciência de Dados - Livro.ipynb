{
 "cells": [
  {
   "cell_type": "code",
   "execution_count": 2,
   "id": "f94c7481",
   "metadata": {},
   "outputs": [
    {
     "data": {
      "text/html": [
       "<style>.container { width:70% !important; }</style>"
      ],
      "text/plain": [
       "<IPython.core.display.HTML object>"
      ]
     },
     "metadata": {},
     "output_type": "display_data"
    }
   ],
   "source": [
    "# Increase width\n",
    "from IPython.display import display, HTML\n",
    "display(HTML(\"<style>.container { width:70% !important; }</style>\"))"
   ]
  },
  {
   "cell_type": "code",
   "execution_count": 4,
   "id": "420265e7",
   "metadata": {},
   "outputs": [],
   "source": [
    "# ENVIRONMENT VARIABLES\n",
    "\n",
    "DATASET_PATH = 'datasets'\n",
    "\n",
    "\n",
    "# IMPORTS\n",
    "\n",
    "import pandas as pd\n",
    "import numpy as np\n",
    "\n",
    "import seaborn as sns\n",
    "import matplotlib.pyplot as plt\n",
    "\n",
    "sns.set_style('dark')"
   ]
  },
  {
   "cell_type": "markdown",
   "id": "b4ccea3e",
   "metadata": {},
   "source": [
    "### **Capítulo 3 - Análise de dados de uma variável**\n",
    "\n",
    "Perguntas a serem respondidas:\n",
    "\n",
    "Qual a frequência com que cada valor (ou intervalo de valores) aparece no conjunto de dados ou seja, qual a **distribução de frequências** dos dados?\n",
    "\n",
    "Quais são alguns valores típicos do conjunto de dados, como mínimo e máximo?\n",
    "\n",
    "Qual seria um valor para representar a posição (ou localização) central do conjunto de dados?\n",
    "\n",
    "Qual seria uma medida da variabilidade ou dispersãoo dos dados?\n",
    "\n",
    "Existem valores atípicos ou discrepantes (*outliers*) no conjunto de dados?\n",
    "\n",
    "A distribuição de frequências dos dados pode ser considerada simétrica?"
   ]
  },
  {
   "cell_type": "markdown",
   "id": "1729721d",
   "metadata": {
    "cell_style": "center"
   },
   "source": [
    "![image.png](data:image/png;base64,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)"
   ]
  },
  {
   "cell_type": "code",
   "execution_count": 5,
   "id": "98bc751a",
   "metadata": {},
   "outputs": [],
   "source": [
    "df_ceagfgv = pd.read_csv(f'{DATASET_PATH}/ceagfgv.csv')"
   ]
  },
  {
   "cell_type": "code",
   "execution_count": 6,
   "id": "e5f56955",
   "metadata": {
    "cell_style": "split"
   },
   "outputs": [
    {
     "name": "stdout",
     "output_type": "stream",
     "text": [
      "<class 'pandas.core.frame.DataFrame'>\n",
      "RangeIndex: 50 entries, 0 to 49\n",
      "Data columns (total 7 columns):\n",
      " #   Column       Non-Null Count  Dtype  \n",
      "---  ------       --------------  -----  \n",
      " 0   ident        50 non-null     int64  \n",
      " 1   salario      49 non-null     float64\n",
      " 2   ingles       48 non-null     object \n",
      " 3   anosformado  48 non-null     float64\n",
      " 4   estcivil     50 non-null     object \n",
      " 5   filhos       50 non-null     int64  \n",
      " 6   bebida       50 non-null     object \n",
      "dtypes: float64(2), int64(2), object(3)\n",
      "memory usage: 2.9+ KB\n"
     ]
    }
   ],
   "source": [
    "df_ceagfgv.info()"
   ]
  },
  {
   "cell_type": "code",
   "execution_count": 7,
   "id": "908f9135",
   "metadata": {
    "cell_style": "split"
   },
   "outputs": [
    {
     "data": {
      "text/html": [
       "<div>\n",
       "<style scoped>\n",
       "    .dataframe tbody tr th:only-of-type {\n",
       "        vertical-align: middle;\n",
       "    }\n",
       "\n",
       "    .dataframe tbody tr th {\n",
       "        vertical-align: top;\n",
       "    }\n",
       "\n",
       "    .dataframe thead th {\n",
       "        text-align: right;\n",
       "    }\n",
       "</style>\n",
       "<table border=\"1\" class=\"dataframe\">\n",
       "  <thead>\n",
       "    <tr style=\"text-align: right;\">\n",
       "      <th></th>\n",
       "      <th>ident</th>\n",
       "      <th>salario</th>\n",
       "      <th>ingles</th>\n",
       "      <th>anosformado</th>\n",
       "      <th>estcivil</th>\n",
       "      <th>filhos</th>\n",
       "      <th>bebida</th>\n",
       "    </tr>\n",
       "  </thead>\n",
       "  <tbody>\n",
       "    <tr>\n",
       "      <th>0</th>\n",
       "      <td>1</td>\n",
       "      <td>3500.0</td>\n",
       "      <td>fluente</td>\n",
       "      <td>12.0</td>\n",
       "      <td>casado</td>\n",
       "      <td>1</td>\n",
       "      <td>outra alcoolica</td>\n",
       "    </tr>\n",
       "    <tr>\n",
       "      <th>1</th>\n",
       "      <td>2</td>\n",
       "      <td>1800.0</td>\n",
       "      <td>nenhum</td>\n",
       "      <td>2.0</td>\n",
       "      <td>casado</td>\n",
       "      <td>3</td>\n",
       "      <td>nao alcoolica</td>\n",
       "    </tr>\n",
       "    <tr>\n",
       "      <th>2</th>\n",
       "      <td>3</td>\n",
       "      <td>4000.0</td>\n",
       "      <td>fluente</td>\n",
       "      <td>5.0</td>\n",
       "      <td>casado</td>\n",
       "      <td>1</td>\n",
       "      <td>outra alcoolica</td>\n",
       "    </tr>\n",
       "    <tr>\n",
       "      <th>3</th>\n",
       "      <td>4</td>\n",
       "      <td>4000.0</td>\n",
       "      <td>fluente</td>\n",
       "      <td>7.0</td>\n",
       "      <td>casado</td>\n",
       "      <td>3</td>\n",
       "      <td>outra alcoolica</td>\n",
       "    </tr>\n",
       "    <tr>\n",
       "      <th>4</th>\n",
       "      <td>5</td>\n",
       "      <td>2500.0</td>\n",
       "      <td>nenhum</td>\n",
       "      <td>11.0</td>\n",
       "      <td>casado</td>\n",
       "      <td>2</td>\n",
       "      <td>nao alcoolica</td>\n",
       "    </tr>\n",
       "  </tbody>\n",
       "</table>\n",
       "</div>"
      ],
      "text/plain": [
       "   ident  salario   ingles  anosformado estcivil  filhos           bebida\n",
       "0      1   3500.0  fluente         12.0   casado       1  outra alcoolica\n",
       "1      2   1800.0   nenhum          2.0   casado       3    nao alcoolica\n",
       "2      3   4000.0  fluente          5.0   casado       1  outra alcoolica\n",
       "3      4   4000.0  fluente          7.0   casado       3  outra alcoolica\n",
       "4      5   2500.0   nenhum         11.0   casado       2    nao alcoolica"
      ]
     },
     "execution_count": 7,
     "metadata": {},
     "output_type": "execute_result"
    }
   ],
   "source": [
    "df_ceagfgv.head()"
   ]
  },
  {
   "cell_type": "code",
   "execution_count": 8,
   "id": "24e23108",
   "metadata": {},
   "outputs": [],
   "source": [
    "# Distribuições de Frequências\n",
    "\n",
    "# Variáveis qualitativas\n",
    "# Frequência absoluta corresponde ao número de unidades (amostrais ou populacionais) em cada classe\n",
    "# Frequência relativa indica a porcentagem correspondente\n",
    "\n",
    "# Bebida favorita\n",
    "df_freq_bebida = df_ceagfgv.groupby('bebida').agg({'filhos': 'count'}).rename(columns={'filhos': 'freq_absoluta'})\n",
    "df_freq_bebida['freq_relativa'] = df_freq_bebida.apply(lambda x: round(x['freq_absoluta'] / df_ceagfgv.shape[0] * 100, 2), axis=1)\n",
    "\n",
    "# Fluência inglês\n",
    "df_freq_ingles = df_ceagfgv.groupby('ingles').agg({'filhos': 'count'}).rename(columns={'filhos': 'freq_absoluta'}).sort_values('freq_absoluta')\n",
    "df_freq_ingles['freq_relativa'] = df_freq_ingles.apply(lambda x: round(x['freq_absoluta'] / 48 * 100, 0), axis=1)\n",
    "df_freq_ingles['freq_acumulada'] = df_freq_ingles['freq_relativa'].cumsum()"
   ]
  },
  {
   "cell_type": "code",
   "execution_count": 9,
   "id": "1e45bfaf",
   "metadata": {
    "cell_style": "split"
   },
   "outputs": [
    {
     "data": {
      "text/html": [
       "<div>\n",
       "<style scoped>\n",
       "    .dataframe tbody tr th:only-of-type {\n",
       "        vertical-align: middle;\n",
       "    }\n",
       "\n",
       "    .dataframe tbody tr th {\n",
       "        vertical-align: top;\n",
       "    }\n",
       "\n",
       "    .dataframe thead th {\n",
       "        text-align: right;\n",
       "    }\n",
       "</style>\n",
       "<table border=\"1\" class=\"dataframe\">\n",
       "  <thead>\n",
       "    <tr style=\"text-align: right;\">\n",
       "      <th></th>\n",
       "      <th>freq_absoluta</th>\n",
       "      <th>freq_relativa</th>\n",
       "    </tr>\n",
       "    <tr>\n",
       "      <th>bebida</th>\n",
       "      <th></th>\n",
       "      <th></th>\n",
       "    </tr>\n",
       "  </thead>\n",
       "  <tbody>\n",
       "    <tr>\n",
       "      <th>cerveja</th>\n",
       "      <td>11</td>\n",
       "      <td>22.0</td>\n",
       "    </tr>\n",
       "    <tr>\n",
       "      <th>nao alcoolica</th>\n",
       "      <td>23</td>\n",
       "      <td>46.0</td>\n",
       "    </tr>\n",
       "    <tr>\n",
       "      <th>outra alcoolica</th>\n",
       "      <td>16</td>\n",
       "      <td>32.0</td>\n",
       "    </tr>\n",
       "  </tbody>\n",
       "</table>\n",
       "</div>"
      ],
      "text/plain": [
       "                 freq_absoluta  freq_relativa\n",
       "bebida                                       \n",
       "cerveja                     11           22.0\n",
       "nao alcoolica               23           46.0\n",
       "outra alcoolica             16           32.0"
      ]
     },
     "execution_count": 9,
     "metadata": {},
     "output_type": "execute_result"
    }
   ],
   "source": [
    "df_freq_bebida"
   ]
  },
  {
   "cell_type": "code",
   "execution_count": 11,
   "id": "2f46ca14",
   "metadata": {
    "cell_style": "split"
   },
   "outputs": [
    {
     "data": {
      "text/html": [
       "<div>\n",
       "<style scoped>\n",
       "    .dataframe tbody tr th:only-of-type {\n",
       "        vertical-align: middle;\n",
       "    }\n",
       "\n",
       "    .dataframe tbody tr th {\n",
       "        vertical-align: top;\n",
       "    }\n",
       "\n",
       "    .dataframe thead th {\n",
       "        text-align: right;\n",
       "    }\n",
       "</style>\n",
       "<table border=\"1\" class=\"dataframe\">\n",
       "  <thead>\n",
       "    <tr style=\"text-align: right;\">\n",
       "      <th></th>\n",
       "      <th>freq_absoluta</th>\n",
       "      <th>freq_relativa</th>\n",
       "      <th>freq_acumulada</th>\n",
       "    </tr>\n",
       "    <tr>\n",
       "      <th>ingles</th>\n",
       "      <th></th>\n",
       "      <th></th>\n",
       "      <th></th>\n",
       "    </tr>\n",
       "  </thead>\n",
       "  <tbody>\n",
       "    <tr>\n",
       "      <th>nenhum</th>\n",
       "      <td>2</td>\n",
       "      <td>4.0</td>\n",
       "      <td>4.0</td>\n",
       "    </tr>\n",
       "    <tr>\n",
       "      <th>fluente</th>\n",
       "      <td>20</td>\n",
       "      <td>42.0</td>\n",
       "      <td>46.0</td>\n",
       "    </tr>\n",
       "    <tr>\n",
       "      <th>algum</th>\n",
       "      <td>26</td>\n",
       "      <td>54.0</td>\n",
       "      <td>100.0</td>\n",
       "    </tr>\n",
       "  </tbody>\n",
       "</table>\n",
       "</div>"
      ],
      "text/plain": [
       "         freq_absoluta  freq_relativa  freq_acumulada\n",
       "ingles                                               \n",
       "nenhum               2            4.0             4.0\n",
       "fluente             20           42.0            46.0\n",
       "algum               26           54.0           100.0"
      ]
     },
     "execution_count": 11,
     "metadata": {},
     "output_type": "execute_result"
    }
   ],
   "source": [
    "df_freq_ingles"
   ]
  },
  {
   "cell_type": "code",
   "execution_count": 16,
   "id": "a0d7b18a",
   "metadata": {},
   "outputs": [
    {
     "name": "stderr",
     "output_type": "stream",
     "text": [
      "sh: 1: /home/felipe: Permission denied\n"
     ]
    },
    {
     "data": {
      "text/plain": [
       "32256"
      ]
     },
     "execution_count": 16,
     "metadata": {},
     "output_type": "execute_result"
    }
   ],
   "source": [
    "import os\n",
    "os.system('~')"
   ]
  }
 ],
 "metadata": {
  "kernelspec": {
   "display_name": "Python 3 (ipykernel)",
   "language": "python",
   "name": "python3"
  },
  "language_info": {
   "codemirror_mode": {
    "name": "ipython",
    "version": 3
   },
   "file_extension": ".py",
   "mimetype": "text/x-python",
   "name": "python",
   "nbconvert_exporter": "python",
   "pygments_lexer": "ipython3",
   "version": "3.9.0"
  }
 },
 "nbformat": 4,
 "nbformat_minor": 5
}
