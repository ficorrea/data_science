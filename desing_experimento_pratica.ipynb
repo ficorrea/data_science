{
  "nbformat": 4,
  "nbformat_minor": 0,
  "metadata": {
    "colab": {
      "provenance": [],
      "mount_file_id": "14ny33nawuXIGo5aW31fe60S97GUfV5IO",
      "authorship_tag": "ABX9TyNKggJvFY2h8HHaqQwFIu+5",
      "include_colab_link": true
    },
    "kernelspec": {
      "name": "python3",
      "display_name": "Python 3"
    },
    "language_info": {
      "name": "python"
    }
  },
  "cells": [
    {
      "cell_type": "markdown",
      "metadata": {
        "id": "view-in-github",
        "colab_type": "text"
      },
      "source": [
        "<a href=\"https://colab.research.google.com/github/ficorrea/data_science/blob/main/desing_experimento_pratica.ipynb\" target=\"_parent\"><img src=\"https://colab.research.google.com/assets/colab-badge.svg\" alt=\"Open In Colab\"/></a>"
      ]
    },
    {
      "cell_type": "markdown",
      "source": [
        "### **AB Test - Design Experimento**"
      ],
      "metadata": {
        "id": "YRMiXy-Z11Sz"
      }
    },
    {
      "cell_type": "code",
      "execution_count": null,
      "metadata": {
        "id": "rN4dsW5U1M6e"
      },
      "outputs": [],
      "source": [
        "import pandas as pd\n",
        "import numpy as np"
      ]
    },
    {
      "cell_type": "code",
      "source": [
        "df = pd.read_csv('/content/drive/MyDrive/Comunidade DS/AB Test/ab_testing.csv')"
      ],
      "metadata": {
        "id": "XGCDsk601xyS"
      },
      "execution_count": null,
      "outputs": []
    },
    {
      "cell_type": "markdown",
      "source": [
        "#### **Formulação das hipóteses**"
      ],
      "metadata": {
        "id": "apkJNBLO2LRv"
      }
    },
    {
      "cell_type": "markdown",
      "source": [
        "#### **Parâmetros do Experimento**"
      ],
      "metadata": {
        "id": "KliLpxax2SCF"
      }
    },
    {
      "cell_type": "code",
      "source": [
        "# nível de confiança\n",
        "confidence_level = 0.95\n",
        "\n",
        "# nível de significância (1 - nível de confiança)\n",
        "significance_level = 1 - confidence_level\n",
        "\n",
        "# Nesse caso são as proporções das páginas (conversões atuais e esperadas)\n",
        "# conversões da página atual e nova página\n",
        "prop1 = 0.13 # -> conversões atuais\n",
        "prop2 = 0.15 # -> conversões esperadas\n",
        "\n",
        "# tamanho do efeito\n",
        "from statsmodels.stats.proportion import proportion_effectsize\n",
        "effect_size = proportion_effectsize(prop1, prop2)\n",
        "\n",
        "# poder estatístico\n",
        "power_stat = 0.8"
      ],
      "metadata": {
        "id": "xOlnK0by2ZiJ"
      },
      "execution_count": null,
      "outputs": []
    },
    {
      "cell_type": "code",
      "source": [
        "# Effect size calculado\n",
        "print(f'Valor do effect size: {effect_size}')"
      ],
      "metadata": {
        "colab": {
          "base_uri": "https://localhost:8080/"
        },
        "id": "GSrFCmog6CAx",
        "outputId": "4b2c941f-6238-41fd-9d6f-2285014ed28a"
      },
      "execution_count": null,
      "outputs": [
        {
          "output_type": "stream",
          "name": "stdout",
          "text": [
            "Valor do effect size: -0.0576728617308947\n"
          ]
        }
      ]
    },
    {
      "cell_type": "code",
      "source": [
        "#########################################################################################\n",
        "# O tamanho da amostra é inversamente proporcional a diferença esperada pelo efeito,    #\n",
        "# ou seja, quanto maior o valor esperado de efeito menor o tamanho, pois para garantir  #\n",
        "# que um efeito menor não seja mascarado com a aleatoriedade                            #\n",
        "#########################################################################################\n",
        "\n",
        "# tamanho da amostra (nesse caso inferiu-se que a distribuição dos dados é normal)\n",
        "from statsmodels.stats.power import NormalIndPower\n",
        "n_sample = (\n",
        "    NormalIndPower().solve_power(\n",
        "        effect_size=effect_size,\n",
        "        alpha=significance_level,\n",
        "        power=power_stat\n",
        "))\n",
        "\n",
        "# As amostras calculadas aqui não levam em consideração as quedas geradas pelas proporções, ou seja, \n",
        "# essa amostra representa o que é necessário, caso a conversão de respostas seja de 10% então é \n",
        "# necessário amostrar um número que seja 90% maior\n",
        "# taxa conversao = resposta / recebidos\n",
        "# 0.13 = 4719 / x\n",
        "\n",
        "# Arredondamento\n",
        "n_sample = int(np.round(n_sample))\n",
        "n_sample"
      ],
      "metadata": {
        "colab": {
          "base_uri": "https://localhost:8080/"
        },
        "id": "zzRWiRmg3Kri",
        "outputId": "c23f0983-d4c9-487c-d5a8-35bbfa6007c1"
      },
      "execution_count": null,
      "outputs": [
        {
          "output_type": "execute_result",
          "data": {
            "text/plain": [
              "4719"
            ]
          },
          "metadata": {},
          "execution_count": 7
        }
      ]
    }
  ]
}